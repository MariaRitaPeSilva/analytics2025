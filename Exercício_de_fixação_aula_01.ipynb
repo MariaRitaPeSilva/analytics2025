{
 "cells": [
  {
   "cell_type": "code",
   "execution_count": 1,
   "id": "be8b25b3-e128-4ce8-bc6b-fd80c5f923b0",
   "metadata": {},
   "outputs": [
    {
     "data": {
      "text/plain": [
       "int"
      ]
     },
     "execution_count": 1,
     "metadata": {},
     "output_type": "execute_result"
    }
   ],
   "source": [
    "#Qual o tipo de variável x?\n",
    "x = 5\n",
    "type(x)"
   ]
  },
  {
   "cell_type": "code",
   "execution_count": 3,
   "id": "04d9a9db-0af4-4436-9b7f-4c0775e6edbd",
   "metadata": {},
   "outputs": [
    {
     "data": {
      "text/plain": [
       "74"
      ]
     },
     "execution_count": 3,
     "metadata": {},
     "output_type": "execute_result"
    }
   ],
   "source": [
    "#Quantos métodos tem x?\n",
    "x = 5\n",
    "len(dir(x))"
   ]
  },
  {
   "cell_type": "code",
   "execution_count": 5,
   "id": "287da9f4-dafb-4539-9f4c-4d0cef1b79f4",
   "metadata": {},
   "outputs": [
    {
     "name": "stdout",
     "output_type": "stream",
     "text": [
      "x NÃO é iterável.\n"
     ]
    }
   ],
   "source": [
    "#x é iterável?\n",
    "# DICA: use a build-in function len\n",
    "\n",
    "x = 5\n",
    "\n",
    "if hasattr(x, '__len__'):\n",
    "    print(\"x é iterável.\")\n",
    "else:\n",
    "    print(\"x NÃO é iterável.\")\n"
   ]
  },
  {
   "cell_type": "code",
   "execution_count": 11,
   "id": "2b29cae1-e99e-499c-b763-43119034506e",
   "metadata": {},
   "outputs": [
    {
     "data": {
      "text/plain": [
       "list"
      ]
     },
     "execution_count": 11,
     "metadata": {},
     "output_type": "execute_result"
    }
   ],
   "source": [
    "#Qual o tipo de variável de x?\n",
    "# abaixo é atribuído [1,2,'pim',4,5,'pim'] a x\n",
    "x = [1,2,'pim',4,5,'pim']\n",
    "\n",
    "type(x)"
   ]
  },
  {
   "cell_type": "code",
   "execution_count": 13,
   "id": "fe982838-d0bb-4533-b7de-4e5199d7eb31",
   "metadata": {},
   "outputs": [
    {
     "data": {
      "text/plain": [
       "48"
      ]
     },
     "execution_count": 13,
     "metadata": {},
     "output_type": "execute_result"
    }
   ],
   "source": [
    "#Quantos métodos tem x?\n",
    "\n",
    "x = [1,2,'pim',4,5,'pim']\n",
    "len(dir(x))"
   ]
  },
  {
   "cell_type": "code",
   "execution_count": 15,
   "id": "5637675d-b086-4bcc-b1ac-93ad0a4b4921",
   "metadata": {},
   "outputs": [
    {
     "name": "stdout",
     "output_type": "stream",
     "text": [
      "Help on built-in function reverse:\n",
      "\n",
      "reverse() method of builtins.list instance\n",
      "    Reverse *IN PLACE*.\n",
      "\n"
     ]
    }
   ],
   "source": [
    "#Imprima a ajuda sobre o anti-penúltimo método de x?\n",
    "\n",
    "x = [1,2,'pim',4,5,'pim']\n",
    "dir(x)\n",
    "help(x.reverse)"
   ]
  },
  {
   "cell_type": "code",
   "execution_count": 17,
   "id": "f6724808-ec2f-400c-9b34-a2d28dd3fa69",
   "metadata": {},
   "outputs": [
    {
     "name": "stdout",
     "output_type": "stream",
     "text": [
      "[1, 2, 4, 5]\n"
     ]
    }
   ],
   "source": [
    "#use o método remove de x para remover os 'prin's\n",
    "\n",
    "x = [1, 2, 'pim', 4, 5, 'pim']\n",
    "\n",
    "while 'pim' in x:\n",
    "    x.remove('pim')\n",
    "\n",
    "print(x)"
   ]
  },
  {
   "cell_type": "code",
   "execution_count": 19,
   "id": "47ea5c0e-5e99-4dfc-91cc-c8576782f265",
   "metadata": {},
   "outputs": [
    {
     "name": "stdout",
     "output_type": "stream",
     "text": [
      "[1, 2, 'pim', 4, 5, 'pim']\n",
      "[1, 2, 4, 5]\n"
     ]
    }
   ],
   "source": [
    "#imprima x\n",
    "x = [1, 2, 'pim', 4, 5, 'pim']\n",
    "print(x)\n",
    "\n",
    "\n",
    "# sem os 'prin's\n",
    "\n",
    "x = [1, 2, 'pim', 4, 5, 'pim']\n",
    "\n",
    "while 'pim' in x:\n",
    "    x.remove('pim')\n",
    "\n",
    "print(x)"
   ]
  },
  {
   "cell_type": "code",
   "execution_count": 21,
   "id": "452724c0-9e67-4206-88a0-2393fd191993",
   "metadata": {},
   "outputs": [
    {
     "name": "stdout",
     "output_type": "stream",
     "text": [
      "x é iterável.\n"
     ]
    }
   ],
   "source": [
    "#x é interavel?\n",
    "x = [1, 2, 'pim', 4, 5, 'pim']\n",
    "if hasattr(x, '__len__'):\n",
    "    print(\"x é iterável.\")\n",
    "else:\n",
    "    print(\"x NÃO é iterável.\")"
   ]
  },
  {
   "cell_type": "code",
   "execution_count": 23,
   "id": "c08cf93b-8bf8-4786-bace-ae30c037352d",
   "metadata": {},
   "outputs": [
    {
     "data": {
      "text/plain": [
       "dict"
      ]
     },
     "execution_count": 23,
     "metadata": {},
     "output_type": "execute_result"
    }
   ],
   "source": [
    "#Qual o tipo de variável x?\n",
    "\n",
    "x = {\n",
    "    \"alunos\": ['ted','bia','bob'],\n",
    "    \"notas\":[7,5,9],\n",
    "    \"universidade\": \"UFTM\",\n",
    "    \"ano\": 2015\n",
    "}\n",
    "\n",
    "type(x)\n"
   ]
  },
  {
   "cell_type": "code",
   "execution_count": 25,
   "id": "1850b199-4da6-43cc-92e7-331d3cd7ff0a",
   "metadata": {},
   "outputs": [
    {
     "data": {
      "text/plain": [
       "46"
      ]
     },
     "execution_count": 25,
     "metadata": {},
     "output_type": "execute_result"
    }
   ],
   "source": [
    "#Quantos métodos tem x?\n",
    "\n",
    "x = {\n",
    "    \"alunos\": ['ted','bia','bob'],\n",
    "    \"notas\":[7,5,9],\n",
    "    \"universidade\": \"UFTM\",\n",
    "    \"ano\": 2015\n",
    "}\n",
    "\n",
    "len(dir(x))"
   ]
  },
  {
   "cell_type": "code",
   "execution_count": 27,
   "id": "d6ef9b93-0e10-4cd4-9fe3-0b23f0d8cd4f",
   "metadata": {},
   "outputs": [
    {
     "name": "stdout",
     "output_type": "stream",
     "text": [
      "Help on built-in function keys:\n",
      "\n",
      "keys(...) method of builtins.dict instance\n",
      "    D.keys() -> a set-like object providing a view on D's keys\n",
      "\n"
     ]
    }
   ],
   "source": [
    "#Mostre ajuda sobre o método Keys\n",
    "\n",
    "x = {\n",
    "    \"alunos\": ['ted','bia','bob'],\n",
    "    \"notas\":[7,5,9],\n",
    "    \"universidade\": \"UFTM\",\n",
    "    \"ano\": 2015\n",
    "}\n",
    "\n",
    "help(x.keys)\n"
   ]
  },
  {
   "cell_type": "code",
   "execution_count": 29,
   "id": "4b6bb76d-e01c-4bf8-b559-970de1d7b29a",
   "metadata": {},
   "outputs": [
    {
     "name": "stdout",
     "output_type": "stream",
     "text": [
      "dict_keys(['alunos', 'notas', 'universidade', 'ano'])\n"
     ]
    }
   ],
   "source": [
    "#Imprima o retorno do método keys\n",
    "\n",
    "x = {\n",
    "    \"alunos\": ['ted','bia','bob'],\n",
    "    \"notas\":[7,5,9],\n",
    "    \"universidade\": \"UFTM\",\n",
    "    \"ano\": 2015\n",
    "}\n",
    "\n",
    "print(x.keys())\n"
   ]
  },
  {
   "cell_type": "code",
   "execution_count": 31,
   "id": "418df752-3f77-4cc1-81b0-5696beee0b75",
   "metadata": {},
   "outputs": [
    {
     "name": "stdout",
     "output_type": "stream",
     "text": [
      "Help on built-in function values:\n",
      "\n",
      "values(...) method of builtins.dict instance\n",
      "    D.values() -> an object providing a view on D's values\n",
      "\n"
     ]
    }
   ],
   "source": [
    "#mostre ajuda sobre o método values\n",
    "\n",
    "x = {\n",
    "    \"alunos\": ['ted','bia','bob'],\n",
    "    \"notas\":[7,5,9],\n",
    "    \"universidade\": \"UFTM\",\n",
    "    \"ano\": 2015\n",
    "}\n",
    "\n",
    "help(x.values)"
   ]
  },
  {
   "cell_type": "code",
   "execution_count": 33,
   "id": "62cd89d7-4f5b-4e8d-aa1d-5e44553fe323",
   "metadata": {},
   "outputs": [
    {
     "name": "stdout",
     "output_type": "stream",
     "text": [
      "dict_values([['ted', 'bia', 'bob'], [7, 5, 9], 'UFTM', 2015])\n"
     ]
    }
   ],
   "source": [
    "#Imprima o retorno do método volues\n",
    "\n",
    "x = {\n",
    "    \"alunos\": ['ted','bia','bob'],\n",
    "    \"notas\":[7,5,9],\n",
    "    \"universidade\": \"UFTM\",\n",
    "    \"ano\": 2015\n",
    "}\n",
    "\n",
    "print(x.values())"
   ]
  },
  {
   "cell_type": "code",
   "execution_count": 61,
   "id": "3891cb24-c2ff-4605-afc2-68b1b1f61a5f",
   "metadata": {},
   "outputs": [
    {
     "name": "stdout",
     "output_type": "stream",
     "text": [
      "iterável.\n"
     ]
    }
   ],
   "source": [
    "#x é interável?\n",
    "\n",
    "x = {\n",
    "    \"alunos\": ['ted','bia','bob'],\n",
    "    \"notas\":[7,5,9],\n",
    "    \"universidade\": \"UFTM\",\n",
    "    \"ano\": 2015\n",
    "}\n",
    "\n",
    "try:\n",
    "    len(x)\n",
    "    print(\"iterável.\")\n",
    "except TypeError:\n",
    "    print(\"NÃO é iterável.\")"
   ]
  },
  {
   "cell_type": "code",
   "execution_count": 37,
   "id": "54f2a500-e3bb-41a8-b2ab-9526bcd573d4",
   "metadata": {},
   "outputs": [
    {
     "name": "stdout",
     "output_type": "stream",
     "text": [
      "secesso\n"
     ]
    }
   ],
   "source": [
    "#DESAFIO\n",
    "\n",
    "#Use o método dos strings para substituir 'progr' por 'sec'\n",
    "\n",
    "x = \"progresso\"\n",
    "\n",
    "print(x.replace(\"progr\", \"sec\"))\n"
   ]
  },
  {
   "cell_type": "code",
   "execution_count": 43,
   "id": "639a3a35-9e56-494c-b5b8-571a2d66ddd8",
   "metadata": {},
   "outputs": [
    {
     "name": "stdout",
     "output_type": "stream",
     "text": [
      "[2.8, 3.1, 2.85, 4.24, 1.2]\n"
     ]
    }
   ],
   "source": [
    "#Crie uma lista do tipo float\n",
    "\n",
    "R = [2.8, 3.1, 2.85, 4.24, 1.2]\n",
    "print(R)"
   ]
  },
  {
   "cell_type": "code",
   "execution_count": 45,
   "id": "2bf85b52-684a-4a98-b8fb-6b946a0b3b89",
   "metadata": {},
   "outputs": [
    {
     "name": "stdout",
     "output_type": "stream",
     "text": [
      "4.24\n"
     ]
    }
   ],
   "source": [
    "#Usando os built-in functions, imprima o maior valor do elementos da lista\n",
    "\n",
    "R = [2.8, 3.1, 2.85, 4.24, 1.2]\n",
    "print(max(R))"
   ]
  },
  {
   "cell_type": "code",
   "execution_count": 47,
   "id": "09145134-694b-4f02-b3ec-631fef6494b6",
   "metadata": {},
   "outputs": [
    {
     "name": "stdout",
     "output_type": "stream",
     "text": [
      "1.2\n"
     ]
    }
   ],
   "source": [
    "#Usando os built-in functions, imprima o menor valor do elementos da lista\n",
    "\n",
    "R = [2.8, 3.1, 2.85, 4.24, 1.2]\n",
    "print(min(R))\n"
   ]
  },
  {
   "cell_type": "code",
   "execution_count": 49,
   "id": "f17462f2-8649-4a2f-b926-ca02a6c1384d",
   "metadata": {},
   "outputs": [
    {
     "name": "stdout",
     "output_type": "stream",
     "text": [
      "14.19\n"
     ]
    }
   ],
   "source": [
    "#Usando os built-in functions, imprima a soma de todos os elementos da lista\n",
    "\n",
    "R = [2.8, 3.1, 2.85, 4.24, 1.2]\n",
    "print(sum(R))"
   ]
  },
  {
   "cell_type": "code",
   "execution_count": 51,
   "id": "fcd96e8d-d50a-4855-bff0-4ae898d3d1af",
   "metadata": {},
   "outputs": [
    {
     "data": {
      "text/plain": [
       "set"
      ]
     },
     "execution_count": 51,
     "metadata": {},
     "output_type": "execute_result"
    }
   ],
   "source": [
    "#Qual o tipo da variável x?\n",
    "\n",
    "x = {1,2,3,2,3,5,6,5}\n",
    "\n",
    "type(x)"
   ]
  },
  {
   "cell_type": "code",
   "execution_count": 53,
   "id": "87c3c463-9398-46ef-88e5-bc132a2f61b6",
   "metadata": {},
   "outputs": [
    {
     "data": {
      "text/plain": [
       "57"
      ]
     },
     "execution_count": 53,
     "metadata": {},
     "output_type": "execute_result"
    }
   ],
   "source": [
    "#Quantos métodos tem a variável x?\n",
    "\n",
    "x = {1,2,3,2,3,5,6,5}\n",
    "\n",
    "len(dir(x))"
   ]
  },
  {
   "cell_type": "code",
   "execution_count": 55,
   "id": "9a7ed121-22bd-4705-80ff-454bb5ac72ba",
   "metadata": {},
   "outputs": [
    {
     "name": "stdout",
     "output_type": "stream",
     "text": [
      "{1, 2, 3, 5}\n"
     ]
    }
   ],
   "source": [
    "#Utilize o método remove para remover o número 6 de x\n",
    "\n",
    "x = {1,2,3,2,3,5,6,5}\n",
    "x.remove(6)\n",
    "print(x)\n"
   ]
  },
  {
   "cell_type": "code",
   "execution_count": 59,
   "id": "471ce878-4163-4759-8ecd-15a972d57ff6",
   "metadata": {},
   "outputs": [
    {
     "name": "stdout",
     "output_type": "stream",
     "text": [
      "iterável.\n"
     ]
    }
   ],
   "source": [
    "#x é iterável?\n",
    "## DICA: use a built-in function len\n",
    "x = {1,2,3,2,3,5,6,5}\n",
    "try:\n",
    "    len(x)\n",
    "    print(\"iterável.\")\n",
    "except TypeError:\n",
    "    print(\"Não é iterável.\")"
   ]
  },
  {
   "cell_type": "code",
   "execution_count": 63,
   "id": "75ba1159-8806-4b1f-9c34-2526029f477b",
   "metadata": {},
   "outputs": [
    {
     "name": "stdout",
     "output_type": "stream",
     "text": [
      "{1, 2, 3, 5, 6}\n"
     ]
    }
   ],
   "source": [
    "#imprima o objeto x\n",
    "\n",
    "x = {1,2,3,2,3,5,6,5}\n",
    "print(x)"
   ]
  },
  {
   "cell_type": "code",
   "execution_count": 65,
   "id": "12477019-f0b3-47ab-aa12-f6265b41feea",
   "metadata": {},
   "outputs": [
    {
     "data": {
      "text/plain": [
       "8"
      ]
     },
     "execution_count": 65,
     "metadata": {},
     "output_type": "execute_result"
    }
   ],
   "source": [
    "#qual o tamanho de y?\n",
    "y = [1,2,2,3,3,4,4,4]\n",
    "\n",
    "len(y)"
   ]
  },
  {
   "cell_type": "code",
   "execution_count": 71,
   "id": "aeae9757-b1e9-4938-a0be-269c6a83ba03",
   "metadata": {},
   "outputs": [
    {
     "name": "stdout",
     "output_type": "stream",
     "text": [
      "{1, 2, 3, 4}\n"
     ]
    }
   ],
   "source": [
    "#mude o tipo de y para set\n",
    "\n",
    "y = [1,2,2,3,3,4,4,4]\n",
    "stringset = set(y)\n",
    "print(stringset)"
   ]
  },
  {
   "cell_type": "code",
   "execution_count": 69,
   "id": "78aae5c7-e9af-4681-a194-132d1e3777ed",
   "metadata": {},
   "outputs": [
    {
     "data": {
      "text/plain": [
       "4"
      ]
     },
     "execution_count": 69,
     "metadata": {},
     "output_type": "execute_result"
    }
   ],
   "source": [
    "#qual o tamanho de y agora, após mudar a string?\n",
    "\n",
    "y = [1,2,2,3,3,4,4,4]\n",
    "stringset = set(y)\n",
    "\n",
    "len(stringset)"
   ]
  }
 ],
 "metadata": {
  "kernelspec": {
   "display_name": "Python [conda env:Rafael]",
   "language": "python",
   "name": "conda-env-Rafael-py"
  },
  "language_info": {
   "codemirror_mode": {
    "name": "ipython",
    "version": 3
   },
   "file_extension": ".py",
   "mimetype": "text/x-python",
   "name": "python",
   "nbconvert_exporter": "python",
   "pygments_lexer": "ipython3",
   "version": "3.12.9"
  }
 },
 "nbformat": 4,
 "nbformat_minor": 5
}
