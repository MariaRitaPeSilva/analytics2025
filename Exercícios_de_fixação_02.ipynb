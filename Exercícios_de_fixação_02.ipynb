{
 "cells": [
  {
   "cell_type": "code",
   "execution_count": 1,
   "id": "7dc1cd4d-6cfe-4b58-8a28-38d5d25658a6",
   "metadata": {},
   "outputs": [
    {
     "name": "stdout",
     "output_type": "stream",
     "text": [
      "A temperatura é de: 13.61\n"
     ]
    }
   ],
   "source": [
    "# Exercício de Fixação - Você não sabe se está frio ou quente, porque te passaram a temperatura de 56,5 em Fahrenheit. \n",
    "#Use float e operações para resolver esse problema\n",
    "\n",
    "# formula de conversão -> C = (F - 32) * 5 / 9\n",
    "\n",
    "grau_fahrenheit = 56.5\n",
    "grau_celsius = (grau_fahrenheit - 32) * 5 / 9\n",
    "print(f\"A temperatura é de: {grau_celsius:.2f}\")"
   ]
  },
  {
   "cell_type": "code",
   "execution_count": 3,
   "id": "503cadaa-b27b-4b66-9ffc-f82fc1175c0d",
   "metadata": {},
   "outputs": [
    {
     "name": "stdout",
     "output_type": "stream",
     "text": [
      "['25\\n', '36\\n', '10\\n', '48\\n', '59\\n', '-15\\n', '26\\n', '-26\\n', '-15\\n', '-1235\\n', '-89\\n', '59\\n', '10\\n', '0\\n', '0\\n', '10\\n', '-59\\n', '10\\n', '23\\n', '56\\n', '-89\\n', '-47\\n', '15\\n', '10\\n', '9\\n', '8\\n', '4\\n', '3\\n', '-25\\n', '10\\n']\n"
     ]
    }
   ],
   "source": [
    "#leia o arquivo numeros.txt\n",
    "## TODO\n",
    "\n",
    "#Descrevendo o processo para realizar a devida leitura\n",
    "# 1º baixe o arquivo\n",
    "# 2º coloque o arquino na pasta onde estar recebendo os script\n",
    "# 3º escreva o script para abrir o arquivo\n",
    "# 4º coloque cada linha um elemento da lista\n",
    "# 5º imprima usando o print(nome do arquivo)\n",
    "\n",
    "# abrindo o arquivo:\n",
    "f = open(\"numeros.txt\",'r')\n",
    "\n",
    "# colocando cada linha num elemento de uma lista\n",
    "numeros = f.readlines()\n",
    "\n",
    "# imprimindo a lista\n",
    "print(numeros)"
   ]
  },
  {
   "cell_type": "code",
   "execution_count": 5,
   "id": "ef9f6d07-1a24-4720-aed9-13c416a13840",
   "metadata": {},
   "outputs": [
    {
     "name": "stdout",
     "output_type": "stream",
     "text": [
      "['25\\n', '36\\n', '10\\n', '48\\n', '59\\n', '-15\\n', '26\\n', '-26\\n', '-15\\n', '-1235\\n', '-89\\n', '59\\n', '10\\n', '0\\n', '0\\n', '10\\n', '-59\\n', '10\\n', '23\\n', '56\\n', '-89\\n', '-47\\n', '15\\n', '10\\n', '9\\n', '8\\n', '4\\n', '3\\n', '-25\\n', '10\\n']\n",
      "[25, 36, 10, 48, 59, -15, 26, -26, -15, -1235, -89, 59, 10, 0, 0, 10, -59, 10, 23, 56, -89, -47, 15, 10, 9, 8, 4, 3, -25, 10]\n"
     ]
    }
   ],
   "source": [
    "# coloque todos os números numa lista chamada numbers\n",
    "# abrindo o arquivo:\n",
    "f = open(\"numeros.txt\", 'r')\n",
    "\n",
    "# colocando cada linha num elemento de uma lista\n",
    "numeros = f.readlines()\n",
    "\n",
    "# imprimindo a lista\n",
    "print(numeros)\n",
    "\n",
    "# coloque todos os números numa lista chamada numbers\n",
    "numbers = [int(linha.strip()) for linha in numeros]  # ou use float() se forem números com vírgula\n",
    "\n",
    "# imprimindo a lista final com os números convertidos\n",
    "print(numbers)\n",
    "\n",
    "# fechando o arquivo\n",
    "f.close()"
   ]
  },
  {
   "cell_type": "code",
   "execution_count": 7,
   "id": "2f00de08-a3dc-41a3-af36-bfb885cc731d",
   "metadata": {},
   "outputs": [],
   "source": [
    "#feche o arquivo\n",
    "## TODO\n",
    "f.close()"
   ]
  },
  {
   "cell_type": "code",
   "execution_count": 9,
   "id": "c2dea919-4e0b-4882-8fc0-bf9dff6cfaab",
   "metadata": {},
   "outputs": [
    {
     "data": {
      "text/plain": [
       "30"
      ]
     },
     "execution_count": 9,
     "metadata": {},
     "output_type": "execute_result"
    }
   ],
   "source": [
    "#quantos números tem na lista?\n",
    "# Dica: Use a built-in funciton len\n",
    "## TODO\n",
    "\n",
    "len(numbers)\n"
   ]
  },
  {
   "cell_type": "code",
   "execution_count": 11,
   "id": "8c4f5e5b-baba-43ab-96da-a449e682b393",
   "metadata": {},
   "outputs": [
    {
     "name": "stdout",
     "output_type": "stream",
     "text": [
      "True\n"
     ]
    }
   ],
   "source": [
    "#1235 está na lista?\n",
    "## TODO\n",
    "\n",
    "numeracao = -1235\n",
    "\n",
    "print( numeracao in numbers)\n"
   ]
  },
  {
   "cell_type": "code",
   "execution_count": 15,
   "id": "5dea34d3-cb66-4d70-bdba-2dace22901d6",
   "metadata": {},
   "outputs": [
    {
     "name": "stdout",
     "output_type": "stream",
     "text": [
      "O número 10 aparece 6 vezes.\n"
     ]
    }
   ],
   "source": [
    "# quantas vezes o número 10 aparece na lista?\n",
    "# DICA 1: use o método count\n",
    "# DICA 2: não se esqueça do caracter '\\n'\n",
    "## TODO\n",
    "\n",
    "quantos_10 = numeros.count('10\\n')\n",
    "print(\"O número 10 aparece\", quantos_10, \"vezes.\")"
   ]
  },
  {
   "cell_type": "code",
   "execution_count": 17,
   "id": "ebbae771-fcea-4763-8804-45d0fd83957d",
   "metadata": {},
   "outputs": [
    {
     "name": "stdout",
     "output_type": "stream",
     "text": [
      "['25\\n', '36\\n', '10\\n', '48\\n', '59\\n', '-15\\n', '26\\n', '-26\\n', '-15\\n', '-1235\\n', '-89\\n', '59\\n', '10\\n', '0\\n', '0\\n', '10\\n', '-59\\n', '10\\n', '23\\n', '56\\n', '-89\\n', '-47\\n', '15\\n', '10\\n', '9\\n', '8\\n', '4\\n', '3\\n', '-25\\n', '10\\n']\n"
     ]
    }
   ],
   "source": [
    "#leia o arquivo numeros.txt\n",
    "## TODO\n",
    "# abrindo o arquivo:\n",
    "f = open(\"numeros.txt\", 'r')\n",
    "\n",
    "# colocando cada linha num elemento de uma lista\n",
    "numeros = f.readlines()\n",
    "\n",
    "# imprimindo a lista\n",
    "print(numeros)\n"
   ]
  },
  {
   "cell_type": "code",
   "execution_count": 19,
   "id": "1da7d161-0ee1-40d6-8cef-57e9d21626d2",
   "metadata": {},
   "outputs": [
    {
     "name": "stdout",
     "output_type": "stream",
     "text": [
      "[25, 36, 10, 48, 59, -15, 26, -26, -15, -1235, -89, 59, 10, 0, 0, 10, -59, 10, 23, 56, -89, -47, 15, 10, 9, 8, 4, 3, -25, 10]\n"
     ]
    }
   ],
   "source": [
    "#coloque todos os números numa lista chamada numbers\n",
    "## TODO\n",
    "# coloque todos os números numa lista chamada numbers\n",
    "numbers = [int(linha.strip()) for linha in numeros]  # ou use float() se forem números com vírgula\n",
    "\n",
    "# imprimindo a lista final com os números convertidos\n",
    "print(numbers)\n"
   ]
  },
  {
   "cell_type": "code",
   "execution_count": 21,
   "id": "54d91be6-3947-4131-bf31-2045742df9d4",
   "metadata": {},
   "outputs": [],
   "source": [
    "#feche o arquivo\n",
    "## TODO\n",
    "\n",
    "# fechando o arquivo\n",
    "f.close()"
   ]
  },
  {
   "cell_type": "code",
   "execution_count": 25,
   "id": "99f92de4-1ecd-4aae-96b5-50cac83cf5e7",
   "metadata": {},
   "outputs": [
    {
     "name": "stdout",
     "output_type": "stream",
     "text": [
      "[25, 36, 10, 48, 59, -15, 26, -26, -15, -1235, -89, 59, 10, 0, 0, 10, -59, 10, 23, 56, -89, -47, 15, 10, 9, 8, 4, 3, -25, 10]\n"
     ]
    }
   ],
   "source": [
    "#mude o tipo de cada elemento da lista para inteiro\n",
    "## DICA: crie um objeto chamado mapper aplicando int a todos elementos da lista (use map)\n",
    "\n",
    "# Abrindo o arquivo\n",
    "f = open(\"numeros.txt\", 'r')\n",
    "\n",
    "# Lendo o conteúdo do arquivo como string\n",
    "conteudo = f.read()\n",
    "\n",
    "# Dividindo a string por espaços ou quebras de linha (depende do formato do arquivo)\n",
    "numeros = conteudo.split()\n",
    "\n",
    "# Convertendo todos os elementos da lista de strings para inteiros usando map e transformando em lista\n",
    "mapper = list(map(int, numeros))  # Aqui o tipo de mapper é alterado para list\n",
    "\n",
    "# Imprimindo a lista de inteiros\n",
    "print(mapper)\n",
    "\n",
    "# Fechando o arquivo\n",
    "f.close()\n",
    "\n"
   ]
  },
  {
   "cell_type": "code",
   "execution_count": 27,
   "id": "4887209f-0d8b-4a11-979f-f939e1d6a00a",
   "metadata": {},
   "outputs": [
    {
     "name": "stdout",
     "output_type": "stream",
     "text": [
      "-1169\n"
     ]
    }
   ],
   "source": [
    "# qual a soma de todos os inteiros no arquivo numeros.txt?\n",
    "## DICA: use a build-in funciont sum\n",
    "## TODO (resposta -1169)\n",
    "\n",
    "somatorio = sum(mapper)\n",
    "print(somatorio)\n"
   ]
  },
  {
   "cell_type": "code",
   "execution_count": null,
   "id": "90dc61fd-268b-422a-9973-7825ee6365f8",
   "metadata": {},
   "outputs": [],
   "source": []
  }
 ],
 "metadata": {
  "kernelspec": {
   "display_name": "Python [conda env:Rafael]",
   "language": "python",
   "name": "conda-env-Rafael-py"
  },
  "language_info": {
   "codemirror_mode": {
    "name": "ipython",
    "version": 3
   },
   "file_extension": ".py",
   "mimetype": "text/x-python",
   "name": "python",
   "nbconvert_exporter": "python",
   "pygments_lexer": "ipython3",
   "version": "3.12.9"
  }
 },
 "nbformat": 4,
 "nbformat_minor": 5
}
