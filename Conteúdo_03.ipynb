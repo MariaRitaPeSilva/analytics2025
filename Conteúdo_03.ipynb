{
 "cells": [
  {
   "cell_type": "code",
   "execution_count": 3,
   "id": "5cda7ffa-87f9-49b1-9476-1e91dd73c3aa",
   "metadata": {},
   "outputs": [
    {
     "data": {
      "text/plain": [
       "'S'"
      ]
     },
     "execution_count": 3,
     "metadata": {},
     "output_type": "execute_result"
    }
   ],
   "source": [
    "name = \"Skywalker\"\n",
    "#primeira Letra\n",
    "name[0]"
   ]
  },
  {
   "cell_type": "code",
   "execution_count": 7,
   "id": "2d17d679-af0a-4869-b785-dc6aecc9dadf",
   "metadata": {},
   "outputs": [
    {
     "data": {
      "text/plain": [
       "'k'"
      ]
     },
     "execution_count": 7,
     "metadata": {},
     "output_type": "execute_result"
    }
   ],
   "source": [
    "# a segunda letra\n",
    "name[1]"
   ]
  },
  {
   "cell_type": "code",
   "execution_count": 9,
   "id": "9e270eef-99bb-401a-937c-09dd5c77e1a0",
   "metadata": {},
   "outputs": [
    {
     "data": {
      "text/plain": [
       "'r'"
      ]
     },
     "execution_count": 9,
     "metadata": {},
     "output_type": "execute_result"
    }
   ],
   "source": [
    "# a última letra\n",
    "name[-1]"
   ]
  },
  {
   "cell_type": "code",
   "execution_count": 11,
   "id": "a80dc6e0-cced-4880-9164-e432526b2a83",
   "metadata": {},
   "outputs": [
    {
     "data": {
      "text/plain": [
       "'e'"
      ]
     },
     "execution_count": 11,
     "metadata": {},
     "output_type": "execute_result"
    }
   ],
   "source": [
    "# a penúltima letra\n",
    "name[-2]"
   ]
  },
  {
   "cell_type": "code",
   "execution_count": 13,
   "id": "aa3b7b8b-3051-4c57-9009-4b19a4f13c8c",
   "metadata": {},
   "outputs": [
    {
     "data": {
      "text/plain": [
       "'Sky'"
      ]
     },
     "execution_count": 13,
     "metadata": {},
     "output_type": "execute_result"
    }
   ],
   "source": [
    "# do começo até a terceira\n",
    "name[:3]"
   ]
  },
  {
   "cell_type": "code",
   "execution_count": 15,
   "id": "fa40418e-18c5-4a7a-bb2e-6106d24cd56c",
   "metadata": {},
   "outputs": [
    {
     "data": {
      "text/plain": [
       "'Skywalk'"
      ]
     },
     "execution_count": 15,
     "metadata": {},
     "output_type": "execute_result"
    }
   ],
   "source": [
    "# do começo até a penúltima\n",
    "name[:-2]"
   ]
  },
  {
   "cell_type": "code",
   "execution_count": 17,
   "id": "d71fa2ef-ee72-42c5-b79c-6ef4691f68bf",
   "metadata": {},
   "outputs": [
    {
     "data": {
      "text/plain": [
       "'walk'"
      ]
     },
     "execution_count": 17,
     "metadata": {},
     "output_type": "execute_result"
    }
   ],
   "source": [
    "# da quarta até a ante-penúltima\n",
    "name[3:-2]"
   ]
  },
  {
   "cell_type": "code",
   "execution_count": 19,
   "id": "3830a25c-975a-4e96-b0cf-93a91549b20e",
   "metadata": {},
   "outputs": [
    {
     "data": {
      "text/plain": [
       "'kwle'"
      ]
     },
     "execution_count": 19,
     "metadata": {},
     "output_type": "execute_result"
    }
   ],
   "source": [
    "# da segunda até a penúltima de 2 em 2\n",
    "name[1:-1:2]"
   ]
  },
  {
   "cell_type": "code",
   "execution_count": 21,
   "id": "f08b392c-5a51-4121-99c7-bca204133cf8",
   "metadata": {},
   "outputs": [
    {
     "data": {
      "text/plain": [
       "'elwk'"
      ]
     },
     "execution_count": 21,
     "metadata": {},
     "output_type": "execute_result"
    }
   ],
   "source": [
    "# da penúltima até a segunda de 2 em 2\n",
    "name[-2:0:-2]"
   ]
  },
  {
   "cell_type": "code",
   "execution_count": 23,
   "id": "0cc99504-e280-46d3-be0d-f313bfbb082b",
   "metadata": {},
   "outputs": [
    {
     "data": {
      "text/plain": [
       "'Syak'"
      ]
     },
     "execution_count": 23,
     "metadata": {},
     "output_type": "execute_result"
    }
   ],
   "source": [
    "# do começo até a penúltima de 2 em 2\n",
    "name[:-1:2]"
   ]
  },
  {
   "cell_type": "code",
   "execution_count": 25,
   "id": "653ff24b-745a-406a-bc87-32c94e4a5378",
   "metadata": {},
   "outputs": [
    {
     "data": {
      "text/plain": [
       "'Swk'"
      ]
     },
     "execution_count": 25,
     "metadata": {},
     "output_type": "execute_result"
    }
   ],
   "source": [
    "# do começo até a última de 3 em 3\n",
    "name[::3]"
   ]
  },
  {
   "cell_type": "code",
   "execution_count": 27,
   "id": "e7974b87-9635-4219-b9ea-708cb65044a3",
   "metadata": {},
   "outputs": [
    {
     "data": {
      "text/plain": [
       "'reklawykS'"
      ]
     },
     "execution_count": 27,
     "metadata": {},
     "output_type": "execute_result"
    }
   ],
   "source": [
    "# da úlima até a primeira de um em 1\n",
    "name[::-1]"
   ]
  },
  {
   "cell_type": "code",
   "execution_count": 29,
   "id": "a4c6be92-2f8c-4ad4-adb8-823654c87200",
   "metadata": {},
   "outputs": [
    {
     "data": {
      "text/plain": [
       "'kwle'"
      ]
     },
     "execution_count": 29,
     "metadata": {},
     "output_type": "execute_result"
    }
   ],
   "source": [
    "# da segunda até a penúltima de 2 em 2\n",
    "# trocando -1 por 8\n",
    "name[1:8:2]"
   ]
  },
  {
   "cell_type": "code",
   "execution_count": 31,
   "id": "ad2d8d49-80be-494f-b72f-2526b7a4f913",
   "metadata": {},
   "outputs": [
    {
     "data": {
      "text/plain": [
       "'kywal'"
      ]
     },
     "execution_count": 31,
     "metadata": {},
     "output_type": "execute_result"
    }
   ],
   "source": [
    "# do primeiro k (inclusive) até o segundo k (exceto)\n",
    "name[-8:-3]"
   ]
  },
  {
   "cell_type": "code",
   "execution_count": null,
   "id": "aa8f68fe-bfc0-474d-bae8-4e8555d5ea70",
   "metadata": {},
   "outputs": [],
   "source": [
    "#Outros exemplos da utilização da função RANGE"
   ]
  },
  {
   "cell_type": "code",
   "execution_count": 1,
   "id": "1ef0bf3e-7a8b-4200-b29c-4c939ff9c151",
   "metadata": {},
   "outputs": [
    {
     "data": {
      "text/plain": [
       "[2, 3, 4, 5, 6]"
      ]
     },
     "execution_count": 1,
     "metadata": {},
     "output_type": "execute_result"
    }
   ],
   "source": [
    "# Iniciando range em números diferentes de zero\n",
    "list(range(2,7))"
   ]
  },
  {
   "cell_type": "code",
   "execution_count": 3,
   "id": "6a5de2d1-50c9-47dc-84e5-291f9eac1558",
   "metadata": {},
   "outputs": [
    {
     "data": {
      "text/plain": [
       "[15, 16, 17, 18, 19, 20]"
      ]
     },
     "execution_count": 3,
     "metadata": {},
     "output_type": "execute_result"
    }
   ],
   "source": [
    "# outro exemplo\n",
    "list( range(15,21) )"
   ]
  },
  {
   "cell_type": "code",
   "execution_count": 5,
   "id": "a30a7ea2-c0fe-4b21-bd33-f4a418d12a74",
   "metadata": {},
   "outputs": [
    {
     "data": {
      "text/plain": [
       "[13, 15, 17, 19, 21, 23]"
      ]
     },
     "execution_count": 5,
     "metadata": {},
     "output_type": "execute_result"
    }
   ],
   "source": [
    "# de 13 (inclusive) a 25 (exclusive) de 2 em 2\n",
    "list( range(13,25,2) )"
   ]
  },
  {
   "cell_type": "code",
   "execution_count": 7,
   "id": "d71f0276-c88e-436f-ade2-53606794e371",
   "metadata": {},
   "outputs": [
    {
     "data": {
      "text/plain": [
       "[13, 16, 19, 22]"
      ]
     },
     "execution_count": 7,
     "metadata": {},
     "output_type": "execute_result"
    }
   ],
   "source": [
    "# de 13 (inclusive) a 25 (exclusive) de 3 em 3\n",
    "list( range(13,25,3) )"
   ]
  },
  {
   "cell_type": "code",
   "execution_count": 9,
   "id": "ac70bfa7-9e42-4bd2-8671-67069cc19da3",
   "metadata": {},
   "outputs": [
    {
     "data": {
      "text/plain": [
       "[-5, -3, -1, 1, 3, 5, 7, 9]"
      ]
     },
     "execution_count": 9,
     "metadata": {},
     "output_type": "execute_result"
    }
   ],
   "source": [
    "# podemos utilizar números inteiros negativos\n",
    "list(range(-5,10,2))"
   ]
  },
  {
   "cell_type": "code",
   "execution_count": 11,
   "id": "e4c036d5-a37c-4715-8c71-681bed4a7762",
   "metadata": {},
   "outputs": [
    {
     "data": {
      "text/plain": [
       "[25, 23, 21, 19, 17]"
      ]
     },
     "execution_count": 11,
     "metadata": {},
     "output_type": "execute_result"
    }
   ],
   "source": [
    "# podemos percorrer um range do maior para o menor\n",
    "list(range(25,15,-2))"
   ]
  },
  {
   "cell_type": "code",
   "execution_count": null,
   "id": "f32827d8-e0d0-4ad4-a5ee-4518a0d40149",
   "metadata": {},
   "outputs": [],
   "source": [
    "#Acessando chaves de dicionários"
   ]
  },
  {
   "cell_type": "code",
   "execution_count": 13,
   "id": "4b979689-9370-41f1-9f8b-408801c885d4",
   "metadata": {},
   "outputs": [],
   "source": [
    "# considere o seguinte dicionário\n",
    "star_wars = {\n",
    "    'movie_name' : {\n",
    "        'A New Hope' : {\n",
    "            'year': 1977,\n",
    "            'director': 'George Lucas',\n",
    "            'duration_minutes': 121\n",
    "        },\n",
    "        'Return of the Jedi': {\n",
    "            'year': 1983,\n",
    "            'director' : 'Richard Marquand',\n",
    "            'duration_minutes' : 131\n",
    "        }\n",
    "    },\n",
    "    'general_description': 'Adventures through the galaxy.'\n",
    "}"
   ]
  },
  {
   "cell_type": "code",
   "execution_count": 15,
   "id": "4ce4439a-3717-43cf-ba56-4c5b190929cc",
   "metadata": {},
   "outputs": [
    {
     "data": {
      "text/plain": [
       "'Adventures through the galaxy.'"
      ]
     },
     "execution_count": 15,
     "metadata": {},
     "output_type": "execute_result"
    }
   ],
   "source": [
    "star_wars['general_description']"
   ]
  },
  {
   "cell_type": "code",
   "execution_count": 17,
   "id": "df418685-f479-4466-9755-d246ab37f355",
   "metadata": {},
   "outputs": [
    {
     "data": {
      "text/plain": [
       "{'A New Hope': {'year': 1977,\n",
       "  'director': 'George Lucas',\n",
       "  'duration_minutes': 121},\n",
       " 'Return of the Jedi': {'year': 1983,\n",
       "  'director': 'Richard Marquand',\n",
       "  'duration_minutes': 131}}"
      ]
     },
     "execution_count": 17,
     "metadata": {},
     "output_type": "execute_result"
    }
   ],
   "source": [
    "star_wars['movie_name']"
   ]
  },
  {
   "cell_type": "code",
   "execution_count": 19,
   "id": "0ff6d23e-d012-4816-a3b1-9068b2776d48",
   "metadata": {},
   "outputs": [
    {
     "data": {
      "text/plain": [
       "{'year': 1983, 'director': 'Richard Marquand', 'duration_minutes': 131}"
      ]
     },
     "execution_count": 19,
     "metadata": {},
     "output_type": "execute_result"
    }
   ],
   "source": [
    "star_wars['movie_name']['Return of the Jedi']"
   ]
  },
  {
   "cell_type": "code",
   "execution_count": 21,
   "id": "54f34a8b-e41e-4424-acb8-144dfca45123",
   "metadata": {},
   "outputs": [
    {
     "data": {
      "text/plain": [
       "1983"
      ]
     },
     "execution_count": 21,
     "metadata": {},
     "output_type": "execute_result"
    }
   ],
   "source": [
    "star_wars['movie_name']['Return of the Jedi']['year']"
   ]
  },
  {
   "cell_type": "code",
   "execution_count": null,
   "id": "7898e47b-7130-46d9-9a38-01cb38738e05",
   "metadata": {},
   "outputs": [],
   "source": []
  }
 ],
 "metadata": {
  "kernelspec": {
   "display_name": "Python [conda env:Rafael]",
   "language": "python",
   "name": "conda-env-Rafael-py"
  },
  "language_info": {
   "codemirror_mode": {
    "name": "ipython",
    "version": 3
   },
   "file_extension": ".py",
   "mimetype": "text/x-python",
   "name": "python",
   "nbconvert_exporter": "python",
   "pygments_lexer": "ipython3",
   "version": "3.12.9"
  }
 },
 "nbformat": 4,
 "nbformat_minor": 5
}
