{
 "cells": [
  {
   "cell_type": "code",
   "execution_count": null,
   "id": "587e1e0e-06ee-4cd4-b6fe-b2bb5a014553",
   "metadata": {},
   "outputs": [],
   "source": [
    "#Exercícios resolvido pelo professor da aula 02"
   ]
  },
  {
   "cell_type": "code",
   "execution_count": 1,
   "id": "7510d1fa-eaf8-42b8-8cfe-b14ff51d9f2f",
   "metadata": {},
   "outputs": [
    {
     "name": "stdout",
     "output_type": "stream",
     "text": [
      "749.5\n"
     ]
    }
   ],
   "source": [
    "saldo_atual = 2500.00\n",
    "valor_fatura = 1750.50\n",
    "saldo_futuro = saldo_atual - valor_fatura\n",
    "print(saldo_futuro)"
   ]
  },
  {
   "cell_type": "code",
   "execution_count": 3,
   "id": "cadf5aea-8b8b-4344-a2ed-9916ff93c566",
   "metadata": {},
   "outputs": [
    {
     "name": "stdout",
     "output_type": "stream",
     "text": [
      "2\n"
     ]
    }
   ],
   "source": [
    "\n",
    "# calculando o resto da divisão de 14 por 3\n",
    "print(14 % 3)\n"
   ]
  },
  {
   "cell_type": "code",
   "execution_count": 5,
   "id": "78fc7195-15c0-4bb3-b4e6-a27d16944ba0",
   "metadata": {},
   "outputs": [
    {
     "name": "stdout",
     "output_type": "stream",
     "text": [
      "7\n"
     ]
    }
   ],
   "source": [
    "# a built-in function abs calcula o valor absoluto\n",
    "print(abs(-7))"
   ]
  },
  {
   "cell_type": "code",
   "execution_count": 7,
   "id": "1cc1ffea-5472-427a-87cc-e19079a18210",
   "metadata": {},
   "outputs": [
    {
     "data": {
      "text/plain": [
       "15.57"
      ]
     },
     "execution_count": 7,
     "metadata": {},
     "output_type": "execute_result"
    }
   ],
   "source": [
    "# Arredondando um ponto flutuante duas cadas decimais\n",
    "round(15.56865632, 2)"
   ]
  },
  {
   "cell_type": "code",
   "execution_count": 9,
   "id": "faab59c1-26a9-48de-898d-517a25b2ec90",
   "metadata": {},
   "outputs": [
    {
     "data": {
      "text/plain": [
       "False"
      ]
     },
     "execution_count": 9,
     "metadata": {},
     "output_type": "execute_result"
    }
   ],
   "source": [
    "5 > 6"
   ]
  },
  {
   "cell_type": "code",
   "execution_count": 11,
   "id": "370ac23f-798c-4d9c-aa56-17e14833ce7e",
   "metadata": {},
   "outputs": [
    {
     "data": {
      "text/plain": [
       "True"
      ]
     },
     "execution_count": 11,
     "metadata": {},
     "output_type": "execute_result"
    }
   ],
   "source": [
    "5 < 6"
   ]
  },
  {
   "cell_type": "code",
   "execution_count": 13,
   "id": "67612c76-bc32-4d26-9139-2659cde82c91",
   "metadata": {},
   "outputs": [
    {
     "data": {
      "text/plain": [
       "True"
      ]
     },
     "execution_count": 13,
     "metadata": {},
     "output_type": "execute_result"
    }
   ],
   "source": [
    "6 >= 6"
   ]
  },
  {
   "cell_type": "code",
   "execution_count": 15,
   "id": "4584c7fa-cf33-4d34-aab6-50d9571b61d6",
   "metadata": {},
   "outputs": [
    {
     "data": {
      "text/plain": [
       "False"
      ]
     },
     "execution_count": 15,
     "metadata": {},
     "output_type": "execute_result"
    }
   ],
   "source": [
    "6 != 6"
   ]
  },
  {
   "cell_type": "code",
   "execution_count": 17,
   "id": "7c34b720-c59b-42b5-971a-4adca97298bb",
   "metadata": {},
   "outputs": [
    {
     "data": {
      "text/plain": [
       "True"
      ]
     },
     "execution_count": 17,
     "metadata": {},
     "output_type": "execute_result"
    }
   ],
   "source": [
    "6 == 6"
   ]
  },
  {
   "cell_type": "code",
   "execution_count": 19,
   "id": "78256ebd-7375-4708-863c-6a0add320617",
   "metadata": {},
   "outputs": [
    {
     "data": {
      "text/plain": [
       "True"
      ]
     },
     "execution_count": 19,
     "metadata": {},
     "output_type": "execute_result"
    }
   ],
   "source": [
    "not (5 > 6)"
   ]
  },
  {
   "cell_type": "code",
   "execution_count": 21,
   "id": "61565009-4404-4628-ac82-efbacf7c223d",
   "metadata": {},
   "outputs": [
    {
     "data": {
      "text/plain": [
       "False"
      ]
     },
     "execution_count": 21,
     "metadata": {},
     "output_type": "execute_result"
    }
   ],
   "source": [
    "(5 > 6) and (5 < 6)"
   ]
  },
  {
   "cell_type": "code",
   "execution_count": 23,
   "id": "85123970-6e12-4e14-a068-e464f3329aa4",
   "metadata": {},
   "outputs": [
    {
     "data": {
      "text/plain": [
       "True"
      ]
     },
     "execution_count": 23,
     "metadata": {},
     "output_type": "execute_result"
    }
   ],
   "source": [
    "(5 > 6) or (5 < 6)"
   ]
  },
  {
   "cell_type": "code",
   "execution_count": 25,
   "id": "eb154b2e-ed80-405b-8c06-013bffd88afb",
   "metadata": {},
   "outputs": [
    {
     "name": "stdout",
     "output_type": "stream",
     "text": [
      "bobbia\n"
     ]
    }
   ],
   "source": [
    "me = 'bob'\n",
    "she = 'bia'\n",
    "us = me + she\n",
    "print(us)\n"
   ]
  },
  {
   "cell_type": "code",
   "execution_count": 27,
   "id": "b01fe8b9-a217-43ac-b42a-83d24a3be31a",
   "metadata": {},
   "outputs": [
    {
     "name": "stdout",
     "output_type": "stream",
     "text": [
      "bobbobbobbobbobbobbob\n"
     ]
    }
   ],
   "source": [
    "many_mes = 7 * me\n",
    "print(many_mes)"
   ]
  },
  {
   "cell_type": "code",
   "execution_count": 29,
   "id": "5ac8f92f-028b-4317-8f69-98718ba40f6e",
   "metadata": {},
   "outputs": [
    {
     "name": "stdout",
     "output_type": "stream",
     "text": [
      "True\n"
     ]
    }
   ],
   "source": [
    "objeto = \"rei\"\n",
    "iteravel = \"O rato roeu a roupa do rei de roma.\"\n",
    "print(objeto in iteravel)"
   ]
  },
  {
   "cell_type": "code",
   "execution_count": 31,
   "id": "e969c203-95a8-4004-aebd-cf5674c6aef3",
   "metadata": {},
   "outputs": [
    {
     "name": "stdout",
     "output_type": "stream",
     "text": [
      "False\n"
     ]
    }
   ],
   "source": [
    "objeto = \"cenoura\"\n",
    "iteravel = ['abacaxi', 'pera', 'uva', 'banana']\n",
    "print(objeto in iteravel)"
   ]
  },
  {
   "cell_type": "code",
   "execution_count": 33,
   "id": "08ce6a8a-815f-4cec-935c-3a971105c1f7",
   "metadata": {},
   "outputs": [
    {
     "name": "stdout",
     "output_type": "stream",
     "text": [
      "['abacaxi\\n', 'cenoura\\n', 'pera\\n', 'uva\\n', 'batata\\n', 'cebola\\n', 'melancia\\n', 'couve\\n', 'alface\\n', 'acelga\\n']\n"
     ]
    }
   ],
   "source": [
    "# abrindo o arquivo:\n",
    "f = open(\"lista_compras.txt\",'r')\n",
    "\n",
    "# colocando cada linha num elemento de uma lista\n",
    "lista_compras = f.readlines()\n",
    "\n",
    "# imprimindo a lista\n",
    "print(lista_compras)"
   ]
  },
  {
   "cell_type": "code",
   "execution_count": 35,
   "id": "cab366d8-85fd-46e6-8d8a-75c796e96e29",
   "metadata": {},
   "outputs": [],
   "source": [
    "# fechando o arquivo\n",
    "f.close()\n"
   ]
  },
  {
   "cell_type": "code",
   "execution_count": 37,
   "id": "034a5771-1fae-488b-845a-bbfaba3708e6",
   "metadata": {},
   "outputs": [
    {
     "name": "stdout",
     "output_type": "stream",
     "text": [
      "batatinha quando nasce\n",
      "se esparrama pelo chão\n"
     ]
    }
   ],
   "source": [
    "# Exemplo de uso do '\\n'\n",
    "poema = \"batatinha quando nasce\\nse esparrama pelo chão\"\n",
    "print(poema)"
   ]
  },
  {
   "cell_type": "code",
   "execution_count": 39,
   "id": "c97022cd-4d77-48de-bc46-510d7f79914e",
   "metadata": {},
   "outputs": [
    {
     "name": "stdout",
     "output_type": "stream",
     "text": [
      "True\n"
     ]
    }
   ],
   "source": [
    "fruta = 'uva\\n'\n",
    "print(fruta in lista_compras)"
   ]
  },
  {
   "cell_type": "code",
   "execution_count": 41,
   "id": "379d6dde-6a99-4a12-a995-56126dcaed05",
   "metadata": {},
   "outputs": [
    {
     "name": "stdout",
     "output_type": "stream",
     "text": [
      "[4, 8, 3, 20]\n"
     ]
    }
   ],
   "source": [
    "# criando uma lista de palavras\n",
    "lista_words = ['amor','papagaio','rua','juazeiro e petrolina']\n",
    "\n",
    "# aplicando len a cada elemento da lista\n",
    "counts = map(len, lista_words)\n",
    "\n",
    "# mudando o tipo de counts para list\n",
    "counts = list(counts)\n",
    "\n",
    "# imprimindo a lista counts\n",
    "print(counts)\n"
   ]
  },
  {
   "cell_type": "code",
   "execution_count": null,
   "id": "7ee93a25-6b35-4211-91cb-76cf72dfba23",
   "metadata": {},
   "outputs": [],
   "source": []
  }
 ],
 "metadata": {
  "kernelspec": {
   "display_name": "Python [conda env:Rafael]",
   "language": "python",
   "name": "conda-env-Rafael-py"
  },
  "language_info": {
   "codemirror_mode": {
    "name": "ipython",
    "version": 3
   },
   "file_extension": ".py",
   "mimetype": "text/x-python",
   "name": "python",
   "nbconvert_exporter": "python",
   "pygments_lexer": "ipython3",
   "version": "3.12.9"
  }
 },
 "nbformat": 4,
 "nbformat_minor": 5
}
