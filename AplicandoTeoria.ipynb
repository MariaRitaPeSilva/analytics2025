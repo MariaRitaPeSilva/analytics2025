{
 "cells": [
  {
   "cell_type": "code",
   "execution_count": 1,
   "id": "d594a0cd-f582-4e8b-9689-13d2c47dc5e8",
   "metadata": {},
   "outputs": [
    {
     "name": "stdout",
     "output_type": "stream",
     "text": [
      "Requirement already satisfied: pg8000 in c:\\users\\rafae\\anaconda3\\lib\\site-packages (1.31.2)\n",
      "Requirement already satisfied: python-dateutil>=2.8.2 in c:\\users\\rafae\\anaconda3\\lib\\site-packages (from pg8000) (2.9.0.post0)\n",
      "Requirement already satisfied: scramp>=1.4.5 in c:\\users\\rafae\\anaconda3\\lib\\site-packages (from pg8000) (1.4.5)\n",
      "Requirement already satisfied: six>=1.5 in c:\\users\\rafae\\anaconda3\\lib\\site-packages (from python-dateutil>=2.8.2->pg8000) (1.16.0)\n",
      "Requirement already satisfied: asn1crypto>=1.5.1 in c:\\users\\rafae\\anaconda3\\lib\\site-packages (from scramp>=1.4.5->pg8000) (1.5.1)\n"
     ]
    }
   ],
   "source": [
    "# Instalação\n",
    "!pip install pg8000"
   ]
  },
  {
   "cell_type": "code",
   "execution_count": 3,
   "id": "91a454f9-51f4-4a52-896a-eb47cb9cedc2",
   "metadata": {},
   "outputs": [],
   "source": [
    "# importação\n",
    "import pg8000.native"
   ]
  },
  {
   "cell_type": "code",
   "execution_count": 5,
   "id": "df26b849-4431-4463-b358-af048782e674",
   "metadata": {},
   "outputs": [],
   "source": [
    "\n",
    "# criaremos a conexão com nosso banco de dados\n",
    "DB_HOST = \"127.0.0.1\" # Endereço do servidor de banco de dados\n",
    "DB_NAME = \"postgres\" # Nome do banco de dados\n",
    "DB_USER = \"postgres\" # Usuário do banco de dados\n",
    "DB_PASSWORD = \"0000\" # Senha do banco de dados\n",
    "DB_PORT = 5432 # Porta do banco de dados"
   ]
  },
  {
   "cell_type": "code",
   "execution_count": 7,
   "id": "f775df25-370c-4545-9acc-0b6a204894a7",
   "metadata": {},
   "outputs": [
    {
     "name": "stdout",
     "output_type": "stream",
     "text": [
      "Tudo certo!\n"
     ]
    }
   ],
   "source": [
    "try:\n",
    "    # Conectando ao banco de dados\n",
    "    conn = pg8000.native.Connection(\n",
    "        host=DB_HOST,\n",
    "        database=DB_NAME,\n",
    "        user=DB_USER,\n",
    "        password=DB_PASSWORD,\n",
    "        port=DB_PORT\n",
    "    )\n",
    "    print(\"Tudo certo!\")\n",
    "except Exception as e:\n",
    "    print(\"Erro:\", e)\n",
    "finally:\n",
    "    if conn:\n",
    "        conn.close()"
   ]
  },
  {
   "cell_type": "code",
   "execution_count": 15,
   "id": "409813d5-9643-4da3-b6aa-d28c7d374326",
   "metadata": {},
   "outputs": [],
   "source": [
    "# Podemos agora criar tabelas \n",
    "# alguns bancos como o MongoDB não possuem o conceito de tabelas, mas sim coleções\n",
    "# criaremos a tabela (table) cars com campos (fields) id, brand, model e year\n",
    "# observe que a sintaxe é similar ao SQLite3 mas não é idêntica\n",
    "# VARCHAR é usado para strings de tamanho variável, INT para inteiros\n",
    "conn = pg8000.native.Connection(\n",
    "    host=DB_HOST,\n",
    "    database=DB_NAME,\n",
    "    user=DB_USER,\n",
    "    password=DB_PASSWORD,\n",
    "    port=DB_PORT\n",
    ")\n",
    "conn.run(\"\"\"\n",
    "    CREATE TABLE cars (\n",
    "        brand VARCHAR(255),\n",
    "        model VARCHAR(255),\n",
    "        year INT\n",
    "    );  \n",
    "\"\"\")\n",
    "conn.close()"
   ]
  },
  {
   "cell_type": "code",
   "execution_count": 17,
   "id": "ab216987-2bdb-48ad-a32a-cfed57d594fc",
   "metadata": {},
   "outputs": [],
   "source": [
    "# criaremos agora um registro (row) na tabela cars\n",
    "# Novamente a nomencratura pode variar de banco para banco\n",
    "conn = pg8000.native.Connection(\n",
    "    host=DB_HOST,\n",
    "    database=DB_NAME,\n",
    "    user=DB_USER,\n",
    "    password=DB_PASSWORD,\n",
    "    port=DB_PORT\n",
    ")\n",
    "conn.run(\"\"\"\n",
    "    INSERT INTO cars (brand, model, year)\n",
    "    VALUES ('Ford', 'Mustang', 1964);\n",
    "\"\"\")\n",
    "conn.close()"
   ]
  },
  {
   "cell_type": "code",
   "execution_count": 19,
   "id": "6088e0c5-9ec2-4179-a1a6-90dbb1b29f56",
   "metadata": {},
   "outputs": [],
   "source": [
    "# criaremos agora um segundo registro (row) na tabela cars\n",
    "# Novamente a nomencratura pode variar de banco para banco\n",
    "conn = pg8000.native.Connection(\n",
    "    host=DB_HOST,\n",
    "    database=DB_NAME,\n",
    "    user=DB_USER,\n",
    "    password=DB_PASSWORD,\n",
    "    port=DB_PORT\n",
    ")\n",
    "conn.run(\"\"\"\n",
    "    INSERT INTO cars (brand, model, year)\n",
    "    VALUES ('Fiat', 'Uno', 1989);\n",
    "\"\"\")\n",
    "conn.close()"
   ]
  },
  {
   "cell_type": "code",
   "execution_count": 27,
   "id": "f4fd2ca2-7eaa-43d2-9fbd-3ae99b9f4c67",
   "metadata": {},
   "outputs": [
    {
     "name": "stdout",
     "output_type": "stream",
     "text": [
      "['Ford', 'Mustang', 1964]\n"
     ]
    }
   ],
   "source": [
    "# criaremos agora um registro (row) na tabela tasks\n",
    "# Novamente a nomencratura pode variar de banco para banco\n",
    "conn = pg8000.native.Connection(\n",
    "    host=DB_HOST,\n",
    "    database=DB_NAME,\n",
    "    user=DB_USER,\n",
    "    password=DB_PASSWORD,\n",
    "    port=DB_PORT\n",
    ")\n",
    "results = conn.run(\"\"\"\n",
    "    SELECT * FROM cars;\n",
    "\"\"\")\n",
    "for result in results:\n",
    "    print(result)\n",
    "conn.close()"
   ]
  },
  {
   "cell_type": "code",
   "execution_count": 29,
   "id": "f5a6cbce-0f49-4eaa-8fd4-f0b56be44a5b",
   "metadata": {},
   "outputs": [],
   "source": [
    "conn = pg8000.native.Connection(\n",
    "    host=DB_HOST,\n",
    "    database=DB_NAME,\n",
    "    user=DB_USER,\n",
    "    password=DB_PASSWORD,\n",
    "    port=DB_PORT\n",
    ")\n",
    "results = conn.run(\"\"\"\n",
    "    SELECT model, year \n",
    "    FROM cars\n",
    "    WHERE year > 1980;\n",
    "\"\"\")\n",
    "for result in results:\n",
    "    print(result)\n",
    "conn.close()"
   ]
  },
  {
   "cell_type": "code",
   "execution_count": 31,
   "id": "52c2678c-6b2e-40f5-b936-c984bf639094",
   "metadata": {},
   "outputs": [
    {
     "name": "stdout",
     "output_type": "stream",
     "text": [
      "['Ford', 'Mustang', 1964]\n"
     ]
    }
   ],
   "source": [
    "# Atualizar (update) na tabela tasks as linhas (rows) cujo model = UNO\n",
    "# fazendo (SET) year = 1980\n",
    "conn = pg8000.native.Connection(\n",
    "    host=DB_HOST,\n",
    "    database=DB_NAME,\n",
    "    user=DB_USER,\n",
    "    password=DB_PASSWORD,\n",
    "    port=DB_PORT\n",
    ")\n",
    "conn.run(\"\"\"\n",
    "    UPDATE cars\n",
    "    SET year = 1980\n",
    "    WHERE model = 'Uno';\n",
    "\"\"\")\n",
    "results = conn.run(\"\"\"\n",
    "    SELECT * FROM cars;\n",
    "\"\"\")\n",
    "for result in results:\n",
    "    print(result)\n",
    "conn.close()"
   ]
  },
  {
   "cell_type": "code",
   "execution_count": 33,
   "id": "5f433f85-3931-4c1a-acaa-6ea2a21b4385",
   "metadata": {},
   "outputs": [
    {
     "name": "stdout",
     "output_type": "stream",
     "text": [
      "['Ford', 'Mustang', 1964]\n"
     ]
    }
   ],
   "source": [
    "# deletar da (FROM) tabela tasks as linhas (rows) onde id = 1\n",
    "conn = pg8000.native.Connection(\n",
    "    host=DB_HOST,\n",
    "    database=DB_NAME,\n",
    "    user=DB_USER,\n",
    "    password=DB_PASSWORD,\n",
    "    port=DB_PORT\n",
    ")\n",
    "conn.run(\"\"\"\n",
    "    DELETE FROM cars\n",
    "    WHERE model = 'Uno';\n",
    "\"\"\")\n",
    "results = conn.run(\"\"\"\n",
    "    SELECT * FROM cars;\n",
    "\"\"\")\n",
    "for result in results:\n",
    "    print(result)\n",
    "conn.close()"
   ]
  },
  {
   "cell_type": "code",
   "execution_count": 37,
   "id": "6b4e078f-3c1e-48c4-9da6-eeaffe085ec6",
   "metadata": {},
   "outputs": [],
   "source": [
    "#Outras bibliotecas para conexão\n",
    "# https://www.psycopg.org/docs/\n",
    "#pip install psycopg2"
   ]
  },
  {
   "cell_type": "code",
   "execution_count": 39,
   "id": "a65420fb-2b78-43b6-957b-cceeec8c7ca9",
   "metadata": {},
   "outputs": [
    {
     "name": "stdout",
     "output_type": "stream",
     "text": [
      "Tudo certo!\n"
     ]
    }
   ],
   "source": [
    "import psycopg2\n",
    "\n",
    "try:\n",
    "    # Conectando ao banco de dados\n",
    "    conn = psycopg2.connect(\n",
    "        f\"dbname={DB_NAME} user={DB_USER} port={DB_PORT} host={DB_HOST} password={DB_PASSWORD}\")\n",
    "    print(\"Tudo certo!\")\n",
    "except Exception as e:\n",
    "    print(\"Erro:\", e)\n",
    "finally:\n",
    "    if conn:\n",
    "        conn.close()"
   ]
  },
  {
   "cell_type": "code",
   "execution_count": 41,
   "id": "8b069c07-3dbc-477d-9d40-fb402507ec73",
   "metadata": {},
   "outputs": [
    {
     "name": "stdout",
     "output_type": "stream",
     "text": [
      "('Ford', 'Mustang', 1964)\n"
     ]
    }
   ],
   "source": [
    "#Exemplo usando Psycopg2\n",
    "import pandas as pd\n",
    "conn = psycopg2.connect(\n",
    "    f\"dbname={DB_NAME} user={DB_USER} port={DB_PORT} host={DB_HOST} password={DB_PASSWORD}\")\n",
    "cursor = conn.cursor()\n",
    "cursor.execute(\n",
    "    \"SELECT * FROM cars;\"\n",
    ")\n",
    "\n",
    "results = cursor.fetchall()\n",
    "for result in results:\n",
    "    print(result)\n",
    "conn.close()"
   ]
  },
  {
   "cell_type": "code",
   "execution_count": 43,
   "id": "cc36e2f5-ef94-4cbc-92c3-5126eddb01bb",
   "metadata": {},
   "outputs": [
    {
     "name": "stdout",
     "output_type": "stream",
     "text": [
      "('Ford', 'Mustang', 1964)\n"
     ]
    }
   ],
   "source": [
    "from sqlalchemy import create_engine, MetaData, Table, select\n",
    "\n",
    "# Criando uma engine de conexão com o banco de dados PostgreSQL\n",
    "engine = create_engine(f\"postgresql+psycopg2://{DB_USER}:{DB_PASSWORD}@{DB_HOST}:{DB_PORT}/{DB_NAME}\")\n",
    "# Criando a conexão\n",
    "connection = engine.connect()\n",
    "# Instanciando o MetaData\n",
    "metadata = MetaData()\n",
    "# Carregando a tabela 'cars' do banco de dados\n",
    "cars = Table('cars', metadata, autoload_with=engine)\n",
    "# criando uma consulta para selecionar todos os registros da tabela 'cars'\n",
    "stmt = select(cars)\n",
    "# Executando a consulta e obtendo os resultados\n",
    "results = connection.execute(stmt)\n",
    "for result in results:\n",
    "    print(result)\n",
    "connection.close()"
   ]
  },
  {
   "cell_type": "code",
   "execution_count": 45,
   "id": "aeb28b33-5d71-42c9-a2fc-04ed40f105f0",
   "metadata": {},
   "outputs": [
    {
     "name": "stdout",
     "output_type": "stream",
     "text": [
      "('Ford', 'Mustang', 1964)\n"
     ]
    }
   ],
   "source": [
    "from sqlalchemy import create_engine, text\n",
    "from sqlalchemy.orm import sessionmaker\n",
    "\n",
    "# 1. Cria a engine\n",
    "engine = create_engine(f\"postgresql+psycopg2://{DB_USER}:{DB_PASSWORD}@{DB_HOST}:{DB_PORT}/{DB_NAME}\")\n",
    "\n",
    "# 2. Cria a session\n",
    "Session = sessionmaker(bind=engine)\n",
    "session = Session()\n",
    "\n",
    "# 3. Escreve a consulta SQL pura\n",
    "sql = text(\"SELECT * FROM cars;\")\n",
    "\n",
    "# 4. Executa a consulta e pega os resultados\n",
    "results = session.execute(sql)\n",
    "\n",
    "# 5. Itera sobre os registros\n",
    "for result in results:\n",
    "    print(result)  # transforma em dicionário para facilitar o uso\n",
    "\n",
    "# 6. Fecha a session\n",
    "session.close()"
   ]
  },
  {
   "cell_type": "code",
   "execution_count": 47,
   "id": "b002df77-a6fb-40bd-a90d-45e94b2495a7",
   "metadata": {},
   "outputs": [
    {
     "data": {
      "text/html": [
       "<div>\n",
       "<style scoped>\n",
       "    .dataframe tbody tr th:only-of-type {\n",
       "        vertical-align: middle;\n",
       "    }\n",
       "\n",
       "    .dataframe tbody tr th {\n",
       "        vertical-align: top;\n",
       "    }\n",
       "\n",
       "    .dataframe thead th {\n",
       "        text-align: right;\n",
       "    }\n",
       "</style>\n",
       "<table border=\"1\" class=\"dataframe\">\n",
       "  <thead>\n",
       "    <tr style=\"text-align: right;\">\n",
       "      <th></th>\n",
       "      <th>brand</th>\n",
       "      <th>model</th>\n",
       "      <th>year</th>\n",
       "    </tr>\n",
       "  </thead>\n",
       "  <tbody>\n",
       "    <tr>\n",
       "      <th>0</th>\n",
       "      <td>Ford</td>\n",
       "      <td>Mustang</td>\n",
       "      <td>1964</td>\n",
       "    </tr>\n",
       "  </tbody>\n",
       "</table>\n",
       "</div>"
      ],
      "text/plain": [
       "  brand    model  year\n",
       "0  Ford  Mustang  1964"
      ]
     },
     "execution_count": 47,
     "metadata": {},
     "output_type": "execute_result"
    }
   ],
   "source": [
    "#Integração com pandas\n",
    "import pandas as pd\n",
    "from sqlalchemy import create_engine\n",
    "\n",
    "# Criando uma engine de conexão com o banco de dados PostgreSQL\n",
    "engine = create_engine(f\"postgresql+psycopg2://{DB_USER}:{DB_PASSWORD}@{DB_HOST}:{DB_PORT}/{DB_NAME}\")\n",
    "\n",
    "# Consulta SQL\n",
    "query = \"SELECT * FROM cars\"\n",
    "\n",
    "# Lê os dados diretamente em um DataFrame\n",
    "df = pd.read_sql(query, engine)\n",
    "\n",
    "# Fechando a conexão com o banco de dados\n",
    "engine.dispose()\n",
    "\n",
    "# Mostra os dados\n",
    "df"
   ]
  },
  {
   "cell_type": "code",
   "execution_count": 46,
   "id": "d0b00058-ab4a-4767-8015-498f32625ba1",
   "metadata": {},
   "outputs": [
    {
     "data": {
      "text/html": [
       "<div>\n",
       "<style scoped>\n",
       "    .dataframe tbody tr th:only-of-type {\n",
       "        vertical-align: middle;\n",
       "    }\n",
       "\n",
       "    .dataframe tbody tr th {\n",
       "        vertical-align: top;\n",
       "    }\n",
       "\n",
       "    .dataframe thead th {\n",
       "        text-align: right;\n",
       "    }\n",
       "</style>\n",
       "<table border=\"1\" class=\"dataframe\">\n",
       "  <thead>\n",
       "    <tr style=\"text-align: right;\">\n",
       "      <th></th>\n",
       "      <th>brand</th>\n",
       "      <th>model</th>\n",
       "      <th>year</th>\n",
       "    </tr>\n",
       "  </thead>\n",
       "  <tbody>\n",
       "    <tr>\n",
       "      <th>0</th>\n",
       "      <td>Ford</td>\n",
       "      <td>Mustang</td>\n",
       "      <td>1964</td>\n",
       "    </tr>\n",
       "  </tbody>\n",
       "</table>\n",
       "</div>"
      ],
      "text/plain": [
       "  brand    model  year\n",
       "0  Ford  Mustang  1964"
      ]
     },
     "execution_count": 46,
     "metadata": {},
     "output_type": "execute_result"
    }
   ],
   "source": [
    "from sqlalchemy import select\n",
    "import pandas as pd\n",
    "\n",
    "from sqlalchemy import Table, MetaData\n",
    "\n",
    "metadata = MetaData()\n",
    "cars = Table(\"cars\", metadata, autoload_with=engine)\n",
    "\n",
    "stmt = select(cars)\n",
    "df = pd.read_sql(stmt, engine)\n",
    "df"
   ]
  },
  {
   "cell_type": "code",
   "execution_count": null,
   "id": "9faf4d3c-681e-477d-a1fd-e35058f18fcd",
   "metadata": {},
   "outputs": [],
   "source": [
    "#Exercício\n",
    "#Faça um tutorial parecido com esse explorando novas bibliotecas de conexão com novos bancos de dados. \n",
    "#Seu tutorial deve ter no mínimo:\n",
    "\n",
    "#Conexão com o banco de dados\n",
    "#Criação de tabela\n",
    "#Criação de registros no banco de dados\n",
    "#Leitura de registros sem filtro\n",
    "#Leitura de registros com filtro\n",
    "#Atualização de registro\n",
    "#Deleção de registro\n",
    "#Integração com Pandas"
   ]
  },
  {
   "cell_type": "code",
   "execution_count": null,
   "id": "a4492c78-cd61-486a-afa4-81767fdf2cb1",
   "metadata": {},
   "outputs": [],
   "source": []
  }
 ],
 "metadata": {
  "kernelspec": {
   "display_name": "Python [conda env:base] *",
   "language": "python",
   "name": "conda-base-py"
  },
  "language_info": {
   "codemirror_mode": {
    "name": "ipython",
    "version": 3
   },
   "file_extension": ".py",
   "mimetype": "text/x-python",
   "name": "python",
   "nbconvert_exporter": "python",
   "pygments_lexer": "ipython3",
   "version": "3.12.7"
  }
 },
 "nbformat": 4,
 "nbformat_minor": 5
}
