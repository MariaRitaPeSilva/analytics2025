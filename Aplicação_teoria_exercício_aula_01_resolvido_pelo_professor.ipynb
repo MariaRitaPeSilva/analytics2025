{
 "cells": [
  {
   "cell_type": "code",
   "execution_count": null,
   "id": "0add1068-0100-4673-893f-1b19e998eede",
   "metadata": {},
   "outputs": [],
   "source": [
    "#Exercícios resolvido pelo professor da aula 01"
   ]
  },
  {
   "cell_type": "code",
   "execution_count": 1,
   "id": "4f1b53e5-cac5-4999-9120-133de46c9caa",
   "metadata": {},
   "outputs": [
    {
     "name": "stdout",
     "output_type": "stream",
     "text": [
      "Hello, world!\n"
     ]
    }
   ],
   "source": [
    "# primeiro programa\n",
    "print(\"Hello, world!\")"
   ]
  },
  {
   "cell_type": "code",
   "execution_count": 3,
   "id": "9f73f2eb-18ea-40e5-9fbf-c121a2fee340",
   "metadata": {},
   "outputs": [
    {
     "data": {
      "text/plain": [
       "13"
      ]
     },
     "execution_count": 3,
     "metadata": {},
     "output_type": "execute_result"
    }
   ],
   "source": [
    "# retorna o número de iteráveis de um iteravel (tradução porca)\n",
    "len(\"Hello, world!\")"
   ]
  },
  {
   "cell_type": "code",
   "execution_count": 5,
   "id": "566f7628-66f6-46cc-bb4a-38f8316b29ef",
   "metadata": {},
   "outputs": [
    {
     "data": {
      "text/plain": [
       "str"
      ]
     },
     "execution_count": 5,
     "metadata": {},
     "output_type": "execute_result"
    }
   ],
   "source": [
    "# retorna o tipo de objeto\n",
    "type(\"Hello, world!\")"
   ]
  },
  {
   "cell_type": "code",
   "execution_count": 7,
   "id": "3afd1845-6666-4bdc-b230-2488e9339f7f",
   "metadata": {},
   "outputs": [
    {
     "data": {
      "text/plain": [
       "['__add__',\n",
       " '__class__',\n",
       " '__contains__',\n",
       " '__delattr__',\n",
       " '__dir__',\n",
       " '__doc__',\n",
       " '__eq__',\n",
       " '__format__',\n",
       " '__ge__',\n",
       " '__getattribute__',\n",
       " '__getitem__',\n",
       " '__getnewargs__',\n",
       " '__getstate__',\n",
       " '__gt__',\n",
       " '__hash__',\n",
       " '__init__',\n",
       " '__init_subclass__',\n",
       " '__iter__',\n",
       " '__le__',\n",
       " '__len__',\n",
       " '__lt__',\n",
       " '__mod__',\n",
       " '__mul__',\n",
       " '__ne__',\n",
       " '__new__',\n",
       " '__reduce__',\n",
       " '__reduce_ex__',\n",
       " '__repr__',\n",
       " '__rmod__',\n",
       " '__rmul__',\n",
       " '__setattr__',\n",
       " '__sizeof__',\n",
       " '__str__',\n",
       " '__subclasshook__',\n",
       " 'capitalize',\n",
       " 'casefold',\n",
       " 'center',\n",
       " 'count',\n",
       " 'encode',\n",
       " 'endswith',\n",
       " 'expandtabs',\n",
       " 'find',\n",
       " 'format',\n",
       " 'format_map',\n",
       " 'index',\n",
       " 'isalnum',\n",
       " 'isalpha',\n",
       " 'isascii',\n",
       " 'isdecimal',\n",
       " 'isdigit',\n",
       " 'isidentifier',\n",
       " 'islower',\n",
       " 'isnumeric',\n",
       " 'isprintable',\n",
       " 'isspace',\n",
       " 'istitle',\n",
       " 'isupper',\n",
       " 'join',\n",
       " 'ljust',\n",
       " 'lower',\n",
       " 'lstrip',\n",
       " 'maketrans',\n",
       " 'partition',\n",
       " 'removeprefix',\n",
       " 'removesuffix',\n",
       " 'replace',\n",
       " 'rfind',\n",
       " 'rindex',\n",
       " 'rjust',\n",
       " 'rpartition',\n",
       " 'rsplit',\n",
       " 'rstrip',\n",
       " 'split',\n",
       " 'splitlines',\n",
       " 'startswith',\n",
       " 'strip',\n",
       " 'swapcase',\n",
       " 'title',\n",
       " 'translate',\n",
       " 'upper',\n",
       " 'zfill']"
      ]
     },
     "execution_count": 7,
     "metadata": {},
     "output_type": "execute_result"
    }
   ],
   "source": [
    "# retorna atributos de classe __XXX__ e métodos\n",
    "dir(\"Hello, world!\")"
   ]
  },
  {
   "cell_type": "code",
   "execution_count": 9,
   "id": "896aeeab-bc82-4a76-be63-66fdad64d409",
   "metadata": {},
   "outputs": [
    {
     "name": "stdout",
     "output_type": "stream",
     "text": [
      "Help on built-in function upper:\n",
      "\n",
      "upper() method of builtins.str instance\n",
      "    Return a copy of the string converted to uppercase.\n",
      "\n"
     ]
    }
   ],
   "source": [
    "# returna ajuda sobre determinado método\n",
    "help(\"Hello, world!\".upper)"
   ]
  },
  {
   "cell_type": "code",
   "execution_count": 11,
   "id": "bc0633c9-b460-4010-a717-67dbcf6075d7",
   "metadata": {},
   "outputs": [
    {
     "name": "stdout",
     "output_type": "stream",
     "text": [
      "HELLO, WORLD!\n"
     ]
    }
   ],
   "source": [
    "# usando o método upper num objeto string\n",
    "print(\"Hello, world!\".upper())"
   ]
  },
  {
   "cell_type": "code",
   "execution_count": 13,
   "id": "a7efc64b-f2ec-4239-8688-cf385cae0b07",
   "metadata": {},
   "outputs": [
    {
     "name": "stdout",
     "output_type": "stream",
     "text": [
      "Hello, world!\n"
     ]
    }
   ],
   "source": [
    "greettings = \"Hello, world!\"\n",
    "print(greettings)"
   ]
  },
  {
   "cell_type": "code",
   "execution_count": 15,
   "id": "7b0f4a18-0433-4e52-85fb-57b53428034f",
   "metadata": {},
   "outputs": [
    {
     "data": {
      "text/plain": [
       "str"
      ]
     },
     "execution_count": 15,
     "metadata": {},
     "output_type": "execute_result"
    }
   ],
   "source": [
    "type(greettings)"
   ]
  },
  {
   "cell_type": "code",
   "execution_count": 17,
   "id": "0cd40606-82ec-4df1-92f0-700cbec11ef3",
   "metadata": {},
   "outputs": [
    {
     "data": {
      "text/plain": [
       "['__add__',\n",
       " '__class__',\n",
       " '__contains__',\n",
       " '__delattr__',\n",
       " '__dir__',\n",
       " '__doc__',\n",
       " '__eq__',\n",
       " '__format__',\n",
       " '__ge__',\n",
       " '__getattribute__',\n",
       " '__getitem__',\n",
       " '__getnewargs__',\n",
       " '__getstate__',\n",
       " '__gt__',\n",
       " '__hash__',\n",
       " '__init__',\n",
       " '__init_subclass__',\n",
       " '__iter__',\n",
       " '__le__',\n",
       " '__len__',\n",
       " '__lt__',\n",
       " '__mod__',\n",
       " '__mul__',\n",
       " '__ne__',\n",
       " '__new__',\n",
       " '__reduce__',\n",
       " '__reduce_ex__',\n",
       " '__repr__',\n",
       " '__rmod__',\n",
       " '__rmul__',\n",
       " '__setattr__',\n",
       " '__sizeof__',\n",
       " '__str__',\n",
       " '__subclasshook__',\n",
       " 'capitalize',\n",
       " 'casefold',\n",
       " 'center',\n",
       " 'count',\n",
       " 'encode',\n",
       " 'endswith',\n",
       " 'expandtabs',\n",
       " 'find',\n",
       " 'format',\n",
       " 'format_map',\n",
       " 'index',\n",
       " 'isalnum',\n",
       " 'isalpha',\n",
       " 'isascii',\n",
       " 'isdecimal',\n",
       " 'isdigit',\n",
       " 'isidentifier',\n",
       " 'islower',\n",
       " 'isnumeric',\n",
       " 'isprintable',\n",
       " 'isspace',\n",
       " 'istitle',\n",
       " 'isupper',\n",
       " 'join',\n",
       " 'ljust',\n",
       " 'lower',\n",
       " 'lstrip',\n",
       " 'maketrans',\n",
       " 'partition',\n",
       " 'removeprefix',\n",
       " 'removesuffix',\n",
       " 'replace',\n",
       " 'rfind',\n",
       " 'rindex',\n",
       " 'rjust',\n",
       " 'rpartition',\n",
       " 'rsplit',\n",
       " 'rstrip',\n",
       " 'split',\n",
       " 'splitlines',\n",
       " 'startswith',\n",
       " 'strip',\n",
       " 'swapcase',\n",
       " 'title',\n",
       " 'translate',\n",
       " 'upper',\n",
       " 'zfill']"
      ]
     },
     "execution_count": 17,
     "metadata": {},
     "output_type": "execute_result"
    }
   ],
   "source": [
    "dir(greettings)"
   ]
  },
  {
   "cell_type": "code",
   "execution_count": 21,
   "id": "8d8147be-d754-4ad5-aec6-adc2e80187f5",
   "metadata": {},
   "outputs": [],
   "source": [
    "#1. Métodos especiais \n",
    "\n",
    "# Lista de métodos e atributos da string \"Olá, Mundo!\"\n",
    "texto = \"Olá, Mundo!\""
   ]
  },
  {
   "cell_type": "code",
   "execution_count": 23,
   "id": "5901da2c-03bc-40a5-9724-ccaa85dbd234",
   "metadata": {},
   "outputs": [
    {
     "name": "stdout",
     "output_type": "stream",
     "text": [
      "Hello World\n"
     ]
    }
   ],
   "source": [
    "# Aplicações de métodos especiais\n",
    "mensagem = \"Hello\"\n",
    "\n",
    "print(mensagem.__add__(\" World\"))        # Concatenação -> \"Hello World\""
   ]
  },
  {
   "cell_type": "code",
   "execution_count": 25,
   "id": "4137d7f3-8065-47bc-b9b7-dd903b2caf80",
   "metadata": {},
   "outputs": [
    {
     "name": "stdout",
     "output_type": "stream",
     "text": [
      "<class 'str'>\n"
     ]
    }
   ],
   "source": [
    "mensagem = \"Hello\"\n",
    "print(mensagem.__class__)                # Tipo do objeto -> <class 'str'>"
   ]
  },
  {
   "cell_type": "code",
   "execution_count": 27,
   "id": "f4ea3f4d-d78d-493c-9173-46edafe1dcd0",
   "metadata": {},
   "outputs": [
    {
     "name": "stdout",
     "output_type": "stream",
     "text": [
      "True\n"
     ]
    }
   ],
   "source": [
    "mensagem = \"Hello\"\n",
    "print(mensagem.__contains__(\"el\"))       # Contém substring -> True"
   ]
  },
  {
   "cell_type": "code",
   "execution_count": 29,
   "id": "a2641b5c-ac89-434c-868c-b9313fcfadd5",
   "metadata": {},
   "outputs": [
    {
     "name": "stdout",
     "output_type": "stream",
     "text": [
      "<method-wrapper '__delattr__' of str object at 0x000001BB83F083C0>\n"
     ]
    }
   ],
   "source": [
    "mensagem = \"Hello\"\n",
    "print(mensagem.__delattr__)              # Não aplicável para str"
   ]
  },
  {
   "cell_type": "code",
   "execution_count": 31,
   "id": "6ab276b3-a76d-4039-b896-3dd3624ad550",
   "metadata": {},
   "outputs": [
    {
     "name": "stdout",
     "output_type": "stream",
     "text": [
      "['__new__', '__repr__', '__hash__', '__str__', '__lt__', '__le__', '__eq__', '__ne__', '__gt__', '__ge__', '__iter__', '__mod__', '__rmod__', '__len__', '__getitem__', '__add__', '__mul__', '__rmul__', '__contains__', 'encode', 'replace', 'split', 'rsplit', 'join', 'capitalize', 'casefold', 'title', 'center', 'count', 'expandtabs', 'find', 'partition', 'index', 'ljust', 'lower', 'lstrip', 'rfind', 'rindex', 'rjust', 'rstrip', 'rpartition', 'splitlines', 'strip', 'swapcase', 'translate', 'upper', 'startswith', 'endswith', 'removeprefix', 'removesuffix', 'isascii', 'islower', 'isupper', 'istitle', 'isspace', 'isdecimal', 'isdigit', 'isnumeric', 'isalpha', 'isalnum', 'isidentifier', 'isprintable', 'zfill', 'format', 'format_map', '__format__', 'maketrans', '__sizeof__', '__getnewargs__', '__doc__', '__getattribute__', '__setattr__', '__delattr__', '__init__', '__reduce_ex__', '__reduce__', '__getstate__', '__subclasshook__', '__init_subclass__', '__dir__', '__class__']\n"
     ]
    }
   ],
   "source": [
    "mensagem = \"Hello\"\n",
    "print(mensagem.__dir__())                # Lista de métodos/atributos"
   ]
  },
  {
   "cell_type": "code",
   "execution_count": 33,
   "id": "f2d84d09-139b-4ff5-b6c5-c5d5e2d97d36",
   "metadata": {},
   "outputs": [
    {
     "name": "stdout",
     "output_type": "stream",
     "text": [
      "str(object='') -> str\n",
      "str(bytes_or_buffer[, encoding[, errors]]) -> str\n",
      "\n",
      "Create a new string object from the given object. If encoding or\n",
      "errors is specified, then the object must expose a data buffer\n",
      "that will be decoded using the given encoding and error handler.\n",
      "Otherwise, returns the result of object.__str__() (if defined)\n",
      "or repr(object).\n",
      "encoding defaults to sys.getdefaultencoding().\n",
      "errors defaults to 'strict'.\n"
     ]
    }
   ],
   "source": [
    "mensagem = \"Hello\"\n",
    "print(mensagem.__doc__)                  # Docstring da classe str"
   ]
  },
  {
   "cell_type": "code",
   "execution_count": 35,
   "id": "96f0a67f-716f-45de-a67e-00ca6e69c66b",
   "metadata": {},
   "outputs": [
    {
     "name": "stdout",
     "output_type": "stream",
     "text": [
      "True\n"
     ]
    }
   ],
   "source": [
    "mensagem = \"Hello\"\n",
    "print(mensagem.__eq__(\"Hello\"))          # Verifica igualdade -> True"
   ]
  },
  {
   "cell_type": "code",
   "execution_count": 37,
   "id": "a9cddf65-199b-41c7-ab52-85fdfc3fc4c5",
   "metadata": {},
   "outputs": [
    {
     "name": "stdout",
     "output_type": "stream",
     "text": [
      "Hello     \n",
      "10\n"
     ]
    }
   ],
   "source": [
    "mensagem = \"Hello\"\n",
    "print(mensagem.__format__(\"<10\"))        # Formatação personalizada\n",
    "print(len(mensagem.__format__(\"<10\")))   # Comprimento do resultado"
   ]
  },
  {
   "cell_type": "code",
   "execution_count": 39,
   "id": "0f51856b-ac5a-40e4-b108-0423514c9176",
   "metadata": {},
   "outputs": [
    {
     "name": "stdout",
     "output_type": "stream",
     "text": [
      "True\n"
     ]
    }
   ],
   "source": [
    "\n",
    "mensagem = \"Hello\"\n",
    "print(mensagem.__ge__(\"H\"))              # Verifica se >= \"H\""
   ]
  },
  {
   "cell_type": "code",
   "execution_count": 41,
   "id": "179cd5c7-8850-4134-b787-8afd4bc2fbe2",
   "metadata": {},
   "outputs": [
    {
     "name": "stdout",
     "output_type": "stream",
     "text": [
      "<built-in method upper of str object at 0x000001BB83F083C0>\n"
     ]
    }
   ],
   "source": [
    "mensagem = \"Hello\"\n",
    "print(mensagem.__getattribute__(\"upper\"))  # Acessa método upper"
   ]
  },
  {
   "cell_type": "code",
   "execution_count": 43,
   "id": "54015a9f-9575-4f8d-bfb8-6d9fa1963d5e",
   "metadata": {},
   "outputs": [
    {
     "name": "stdout",
     "output_type": "stream",
     "text": [
      "e\n"
     ]
    }
   ],
   "source": [
    "mensagem = \"Hello\"\n",
    "print(mensagem.__getitem__(1))           # Caractere na posição 1"
   ]
  },
  {
   "cell_type": "code",
   "execution_count": 45,
   "id": "f5253c8c-a90e-4a58-9c94-518807be0747",
   "metadata": {},
   "outputs": [
    {
     "name": "stdout",
     "output_type": "stream",
     "text": [
      "('Hello',)\n"
     ]
    }
   ],
   "source": [
    "mensagem = \"Hello\"\n",
    "print(mensagem.__getnewargs__())         # Interno (pickle)"
   ]
  },
  {
   "cell_type": "code",
   "execution_count": 47,
   "id": "bb1d800e-f130-41d7-83bb-9e343e003cf4",
   "metadata": {},
   "outputs": [
    {
     "name": "stdout",
     "output_type": "stream",
     "text": [
      "None\n"
     ]
    }
   ],
   "source": [
    "mensagem = \"Hello\"\n",
    "print(mensagem.__getstate__())           # Serialização"
   ]
  },
  {
   "cell_type": "code",
   "execution_count": 49,
   "id": "060cd008-e87f-4a32-8390-7c9f776f1c47",
   "metadata": {},
   "outputs": [
    {
     "name": "stdout",
     "output_type": "stream",
     "text": [
      "True\n"
     ]
    }
   ],
   "source": [
    "mensagem = \"Hello\"\n",
    "print(mensagem.__gt__(\"A\"))              # Verifica se > \"A\""
   ]
  },
  {
   "cell_type": "code",
   "execution_count": 51,
   "id": "3b3e9938-7705-40b5-b95c-6b08a60d64bc",
   "metadata": {},
   "outputs": [
    {
     "name": "stdout",
     "output_type": "stream",
     "text": [
      "6038261241045772128\n"
     ]
    }
   ],
   "source": [
    "mensagem = \"Hello\"\n",
    "print(mensagem.__hash__())               # Hash da string"
   ]
  },
  {
   "cell_type": "code",
   "execution_count": 53,
   "id": "85d0c288-28d1-4989-91b6-b523472132e7",
   "metadata": {},
   "outputs": [
    {
     "name": "stdout",
     "output_type": "stream",
     "text": [
      "None\n"
     ]
    }
   ],
   "source": [
    "\n",
    "mensagem = \"Hello\"\n",
    "print(mensagem.__init_subclass__())      # Interno para subclasses"
   ]
  },
  {
   "cell_type": "code",
   "execution_count": 55,
   "id": "fc75bb26-ed31-4aa5-aa55-38306433cdd2",
   "metadata": {},
   "outputs": [
    {
     "name": "stdout",
     "output_type": "stream",
     "text": [
      "['H', 'e', 'l', 'l', 'o']\n"
     ]
    }
   ],
   "source": [
    "mensagem = \"Hello\"\n",
    "print(list(mensagem.__iter__()))         # Iterável -> lista de caracteres"
   ]
  },
  {
   "cell_type": "code",
   "execution_count": 57,
   "id": "6ea91f31-4228-406d-838a-a85fd742ee0a",
   "metadata": {},
   "outputs": [
    {
     "name": "stdout",
     "output_type": "stream",
     "text": [
      "True\n"
     ]
    }
   ],
   "source": [
    "mensagem = \"Hello\"\n",
    "print(mensagem.__le__(\"Z\"))              # Verifica se <= \"Z\""
   ]
  },
  {
   "cell_type": "code",
   "execution_count": 59,
   "id": "f56ab763-ac63-4bc7-bba7-31474f0e71c6",
   "metadata": {},
   "outputs": [
    {
     "name": "stdout",
     "output_type": "stream",
     "text": [
      "5\n"
     ]
    }
   ],
   "source": [
    "mensagem = \"Hello\"\n",
    "print(mensagem.__len__())                # Tamanho da string\n"
   ]
  },
  {
   "cell_type": "code",
   "execution_count": 61,
   "id": "206cc599-759f-44fd-9220-894de41a1196",
   "metadata": {},
   "outputs": [
    {
     "name": "stdout",
     "output_type": "stream",
     "text": [
      "True\n"
     ]
    }
   ],
   "source": [
    "mensagem = \"Hello\"\n",
    "print(mensagem.__lt__(\"World\"))          # Verifica se < \"World\""
   ]
  },
  {
   "cell_type": "code",
   "execution_count": 67,
   "id": "e32fb03e-a692-440e-870d-ae070b6f867e",
   "metadata": {},
   "outputs": [
    {
     "name": "stdout",
     "output_type": "stream",
     "text": [
      "Olá, Maria Rita! Você tem 20 novas mensagens.\n"
     ]
    }
   ],
   "source": [
    "template = \"Olá, %s! Você tem %d novas mensagens.\"\n",
    "dados = (\"Maria Rita\", 20)\n",
    "resultado_formatado = template.__mod__(dados)\n",
    "print(resultado_formatado)"
   ]
  },
  {
   "cell_type": "code",
   "execution_count": 69,
   "id": "738ee13f-669f-4dc5-937f-273b9fdf7046",
   "metadata": {},
   "outputs": [
    {
     "name": "stdout",
     "output_type": "stream",
     "text": [
      "HelloHello\n"
     ]
    }
   ],
   "source": [
    "mensagem = \"Hello\"\n",
    "print(mensagem.__mul__(2))               # Repetição -> \"HelloHello\""
   ]
  },
  {
   "cell_type": "code",
   "execution_count": 71,
   "id": "abf525e4-d5b5-4879-ae59-a9f545c4dd73",
   "metadata": {},
   "outputs": [
    {
     "name": "stdout",
     "output_type": "stream",
     "text": [
      "True\n"
     ]
    }
   ],
   "source": [
    "mensagem = \"Hello\"\n",
    "print(mensagem.__ne__(\"World\"))          # Verifica desigualdade"
   ]
  },
  {
   "cell_type": "code",
   "execution_count": 73,
   "id": "da55d6b5-f97d-44bc-8ef7-451f6feaa526",
   "metadata": {},
   "outputs": [
    {
     "name": "stdout",
     "output_type": "stream",
     "text": [
      "Hi\n"
     ]
    }
   ],
   "source": [
    "mensagem = \"Hello\"\n",
    "print(str.__new__(str, \"Hi\"))            # Cria nova string -> \"Hi\""
   ]
  },
  {
   "cell_type": "code",
   "execution_count": 75,
   "id": "e991544f-95f0-416c-a95f-96cb3dffa5da",
   "metadata": {},
   "outputs": [
    {
     "name": "stdout",
     "output_type": "stream",
     "text": [
      "(<function __newobj__ at 0x000001BBFEAA71A0>, (<class 'str'>, 'Hello'), None, None, None)\n"
     ]
    }
   ],
   "source": [
    "mensagem = \"Hello\"\n",
    "print(mensagem.__reduce_ex__(2))         # Para pickle"
   ]
  },
  {
   "cell_type": "code",
   "execution_count": 77,
   "id": "f962092d-a323-41fe-9d89-3cfd082ccf0f",
   "metadata": {},
   "outputs": [
    {
     "name": "stdout",
     "output_type": "stream",
     "text": [
      "'Hello'\n"
     ]
    }
   ],
   "source": [
    "mensagem = \"Hello\"\n",
    "print(mensagem.__repr__())               # Representação formal"
   ]
  },
  {
   "cell_type": "code",
   "execution_count": 79,
   "id": "1c9f52e9-1ab5-4034-85fa-79860c04d57f",
   "metadata": {},
   "outputs": [
    {
     "name": "stdout",
     "output_type": "stream",
     "text": [
      "Maria RitaMaria RitaMaria Rita\n"
     ]
    }
   ],
   "source": [
    "nome = \"Maria Rita\"\n",
    "print(nome.__rmul__(3))                  # Repetição à direita"
   ]
  },
  {
   "cell_type": "code",
   "execution_count": 81,
   "id": "25108951-e3ab-4449-9032-5d71d8746f52",
   "metadata": {},
   "outputs": [
    {
     "name": "stdout",
     "output_type": "stream",
     "text": [
      "46\n"
     ]
    }
   ],
   "source": [
    "mensagem = \"Hello\"\n",
    "print(mensagem.__sizeof__())             # Tamanho em bytes"
   ]
  },
  {
   "cell_type": "code",
   "execution_count": 83,
   "id": "066947ca-994c-426e-918a-5326e1ffbfd5",
   "metadata": {},
   "outputs": [
    {
     "name": "stdout",
     "output_type": "stream",
     "text": [
      "Hello\n"
     ]
    }
   ],
   "source": [
    "mensagem = \"Hello\"\n",
    "print(mensagem.__str__())                # Representação como string"
   ]
  },
  {
   "cell_type": "code",
   "execution_count": 85,
   "id": "db872124-797f-4500-9d7f-525cd28fd391",
   "metadata": {},
   "outputs": [
    {
     "name": "stdout",
     "output_type": "stream",
     "text": [
      "NotImplemented\n"
     ]
    }
   ],
   "source": [
    "mensagem = \"Hello\"\n",
    "print(str.__subclasshook__(str))         # Verifica subclasses"
   ]
  },
  {
   "cell_type": "code",
   "execution_count": 87,
   "id": "83151308-6673-4ab4-baeb-d3c7f12e58fb",
   "metadata": {},
   "outputs": [
    {
     "name": "stdout",
     "output_type": "stream",
     "text": [
      " hello, world! \n"
     ]
    }
   ],
   "source": [
    "print(\" hello, World! \".capitalize())\n"
   ]
  },
  {
   "cell_type": "code",
   "execution_count": 89,
   "id": "1c4e71f0-7289-4260-9e55-aacf1ff909cc",
   "metadata": {},
   "outputs": [
    {
     "name": "stdout",
     "output_type": "stream",
     "text": [
      " hello, world! \n"
     ]
    }
   ],
   "source": [
    "print(\" hello, World! \".casefold())\n"
   ]
  },
  {
   "cell_type": "code",
   "execution_count": 91,
   "id": "134cd6d0-66e5-4fc9-bbb5-d52b0b6e48af",
   "metadata": {},
   "outputs": [
    {
     "name": "stdout",
     "output_type": "stream",
     "text": [
      "-- hello, World! ---\n"
     ]
    }
   ],
   "source": [
    "print(\" hello, World! \".center(20, '-'))\n"
   ]
  },
  {
   "cell_type": "code",
   "execution_count": 93,
   "id": "db357b54-be4f-4b1b-9599-3a2916f58eff",
   "metadata": {},
   "outputs": [
    {
     "name": "stdout",
     "output_type": "stream",
     "text": [
      "2\n"
     ]
    }
   ],
   "source": [
    "print(\" hello, World! \".count(\"o\"))\n"
   ]
  },
  {
   "cell_type": "code",
   "execution_count": 95,
   "id": "5317544f-9be1-4542-9693-de848137a911",
   "metadata": {},
   "outputs": [
    {
     "name": "stdout",
     "output_type": "stream",
     "text": [
      "b' hello, World! '\n"
     ]
    }
   ],
   "source": [
    "print(\" hello, World! \".encode())\n"
   ]
  },
  {
   "cell_type": "code",
   "execution_count": 97,
   "id": "446e4c78-820a-4539-ac4e-8e7e45cbbf00",
   "metadata": {},
   "outputs": [
    {
     "name": "stdout",
     "output_type": "stream",
     "text": [
      "True\n"
     ]
    }
   ],
   "source": [
    "print(\" hello, World! \".endswith(\"! \"))\n"
   ]
  },
  {
   "cell_type": "code",
   "execution_count": 99,
   "id": "f677d3b7-c2c7-490e-8a28-0896cfdf37bb",
   "metadata": {},
   "outputs": [
    {
     "name": "stdout",
     "output_type": "stream",
     "text": [
      "a   b\n"
     ]
    }
   ],
   "source": [
    "print(\"a\\tb\".expandtabs(4))\n"
   ]
  },
  {
   "cell_type": "code",
   "execution_count": 101,
   "id": "bf9fd43b-4daa-454b-ab08-11197768a579",
   "metadata": {},
   "outputs": [
    {
     "name": "stdout",
     "output_type": "stream",
     "text": [
      "8\n"
     ]
    }
   ],
   "source": [
    "print(\" hello, World! \".find(\"World\"))\n"
   ]
  },
  {
   "cell_type": "code",
   "execution_count": 103,
   "id": "115e715c-3b87-4bbb-bc79-dffdddc8a48a",
   "metadata": {},
   "outputs": [
    {
     "name": "stdout",
     "output_type": "stream",
     "text": [
      "Name: Alice\n",
      "Name: Bob\n"
     ]
    }
   ],
   "source": [
    "print(\"Name: {}\".format(\"Alice\"))\n",
    "print(\"Name: {name}\".format_map({'name': 'Bob'}))\n"
   ]
  },
  {
   "cell_type": "code",
   "execution_count": 105,
   "id": "5d5f8ceb-00ec-403b-ab4a-be926dfccd9a",
   "metadata": {},
   "outputs": [
    {
     "name": "stdout",
     "output_type": "stream",
     "text": [
      "8\n"
     ]
    }
   ],
   "source": [
    "print(\" hello, World! \".index(\"W\"))\n"
   ]
  },
  {
   "cell_type": "code",
   "execution_count": 107,
   "id": "2c7a3542-ec91-4466-96b3-0b92d6227c42",
   "metadata": {},
   "outputs": [
    {
     "name": "stdout",
     "output_type": "stream",
     "text": [
      "True\n",
      "True\n",
      "True\n",
      "True\n",
      "True\n",
      "True\n",
      "True\n",
      "True\n",
      "True\n",
      "True\n",
      "True\n",
      "True\n"
     ]
    }
   ],
   "source": [
    "print(\"abc123\".isalnum())      # True\n",
    "print(\"abc\".isalpha())         # True\n",
    "print(\"ABC\".isascii())         # True\n",
    "print(\"123\".isdecimal())       # True\n",
    "print(\"123\".isdigit())         # True\n",
    "print(\"var1\".isidentifier())   # True\n",
    "print(\"abc\".islower())         # True\n",
    "print(\"Ⅷ\".isnumeric())         # True\n",
    "print(\"Text\".isprintable())    # True\n",
    "print(\"   \".isspace())         # True\n",
    "print(\"Hello World\".istitle()) # True\n",
    "print(\"HELLO\".isupper())       # True\n"
   ]
  },
  {
   "cell_type": "code",
   "execution_count": 109,
   "id": "3ddc42c4-8a1d-4396-b81c-bb26071a623a",
   "metadata": {},
   "outputs": [
    {
     "name": "stdout",
     "output_type": "stream",
     "text": [
      "a-b-c\n"
     ]
    }
   ],
   "source": [
    "print(\"-\".join([\"a\", \"b\", \"c\"]))\n"
   ]
  },
  {
   "cell_type": "code",
   "execution_count": 111,
   "id": "ec01bb64-9d5f-469e-a3d5-cdc70a5170bb",
   "metadata": {},
   "outputs": [
    {
     "name": "stdout",
     "output_type": "stream",
     "text": [
      "abc..\n"
     ]
    }
   ],
   "source": [
    "print(\"abc\".ljust(5, \".\"))\n"
   ]
  },
  {
   "cell_type": "code",
   "execution_count": 113,
   "id": "671c3a7a-7350-44f4-9e1b-d030af4851ae",
   "metadata": {},
   "outputs": [
    {
     "name": "stdout",
     "output_type": "stream",
     "text": [
      "abc\n",
      "HELLO\n"
     ]
    }
   ],
   "source": [
    "print(\"ABC\".lower())     # abc\n",
    "print(\"hello\".upper())   # HELLO\n"
   ]
  },
  {
   "cell_type": "code",
   "execution_count": 115,
   "id": "e3116676-e3c3-44db-ad61-33ba2dc064d6",
   "metadata": {},
   "outputs": [
    {
     "name": "stdout",
     "output_type": "stream",
     "text": [
      "text\n",
      "  hi\n",
      "trim\n"
     ]
    }
   ],
   "source": [
    "print(\"   text\".lstrip())  # 'text'\n",
    "print(\"  hi  \".rstrip())   # '  hi'\n",
    "print(\"  trim  \".strip())  # 'trim'\n"
   ]
  },
  {
   "cell_type": "code",
   "execution_count": 117,
   "id": "8ab87add-bfc9-4875-a646-4986ce51feca",
   "metadata": {},
   "outputs": [
    {
     "name": "stdout",
     "output_type": "stream",
     "text": [
      "1ppl2\n"
     ]
    }
   ],
   "source": [
    "table = str.maketrans(\"ae\", \"12\")\n",
    "print(\"apple\".translate(table))\n"
   ]
  },
  {
   "cell_type": "code",
   "execution_count": 119,
   "id": "91362a78-70e4-4792-8b89-7e4b678ca9ad",
   "metadata": {},
   "outputs": [
    {
     "name": "stdout",
     "output_type": "stream",
     "text": [
      "('key', '=', 'value')\n",
      "('a=b', '=', 'c')\n"
     ]
    }
   ],
   "source": [
    "print(\"key=value\".partition(\"=\"))   # ('key', '=', 'value')\n",
    "print(\"a=b=c\".rpartition(\"=\"))      # ('a=b', '=', 'c')\n"
   ]
  },
  {
   "cell_type": "code",
   "execution_count": 121,
   "id": "b092f664-4b82-4469-aa7a-8b68725c0dda",
   "metadata": {},
   "outputs": [
    {
     "name": "stdout",
     "output_type": "stream",
     "text": [
      "happy\n",
      "test\n"
     ]
    }
   ],
   "source": [
    "print(\"unhappy\".removeprefix(\"un\"))   # happy\n",
    "print(\"test.py\".removesuffix(\".py\"))  # test\n"
   ]
  },
  {
   "cell_type": "code",
   "execution_count": 123,
   "id": "d2b8ba02-900d-44c2-a10a-f2ec55df9835",
   "metadata": {},
   "outputs": [
    {
     "name": "stdout",
     "output_type": "stream",
     "text": [
      "bonono\n"
     ]
    }
   ],
   "source": [
    "print(\"banana\".replace(\"a\", \"o\"))\n"
   ]
  },
  {
   "cell_type": "code",
   "execution_count": 125,
   "id": "e39c4d4c-9ed8-4c74-8ee9-edf75fcc13b6",
   "metadata": {},
   "outputs": [
    {
     "name": "stdout",
     "output_type": "stream",
     "text": [
      "5\n",
      "5\n"
     ]
    }
   ],
   "source": [
    "print(\"banana\".rfind(\"a\"))    # 5\n",
    "print(\"banana\".rindex(\"a\"))   # 5\n"
   ]
  },
  {
   "cell_type": "code",
   "execution_count": 127,
   "id": "a706e6fe-d5f5-498d-a19a-21709d173004",
   "metadata": {},
   "outputs": [
    {
     "name": "stdout",
     "output_type": "stream",
     "text": [
      "---abc\n"
     ]
    }
   ],
   "source": [
    "print(\"abc\".rjust(6, \"-\"))\n"
   ]
  },
  {
   "cell_type": "code",
   "execution_count": 129,
   "id": "c28127bd-0823-4292-9a38-de443022d4d4",
   "metadata": {},
   "outputs": [
    {
     "name": "stdout",
     "output_type": "stream",
     "text": [
      "['a,b', 'c']\n"
     ]
    }
   ],
   "source": [
    "print(\"a,b,c\".rsplit(\",\", 1))\n"
   ]
  },
  {
   "cell_type": "code",
   "execution_count": 131,
   "id": "d5bb170f-dcf3-4545-b20d-3ce816a97c48",
   "metadata": {},
   "outputs": [
    {
     "name": "stdout",
     "output_type": "stream",
     "text": [
      "['a', 'b', 'c']\n",
      "['a', 'b', 'c']\n"
     ]
    }
   ],
   "source": [
    "print(\"a b c\".split())        # ['a', 'b', 'c']\n",
    "print(\"a\\nb\\nc\".splitlines()) # ['a', 'b', 'c']\n"
   ]
  },
  {
   "cell_type": "code",
   "execution_count": 133,
   "id": "eca5e19c-c417-4ff2-88e5-4ff0eb23a63c",
   "metadata": {},
   "outputs": [
    {
     "name": "stdout",
     "output_type": "stream",
     "text": [
      "True\n"
     ]
    }
   ],
   "source": [
    "print(\"data.csv\".startswith(\"data\"))\n"
   ]
  },
  {
   "cell_type": "code",
   "execution_count": 135,
   "id": "fac43731-03ad-41e5-81aa-fc11e52b761c",
   "metadata": {},
   "outputs": [
    {
     "name": "stdout",
     "output_type": "stream",
     "text": [
      "pYtHoN\n"
     ]
    }
   ],
   "source": [
    "print(\"PyThOn\".swapcase())\n"
   ]
  },
  {
   "cell_type": "code",
   "execution_count": 137,
   "id": "764d1b7c-070a-4e10-806a-f7b827404ee1",
   "metadata": {},
   "outputs": [
    {
     "name": "stdout",
     "output_type": "stream",
     "text": [
      "Hello World\n"
     ]
    }
   ],
   "source": [
    "print(\"hello world\".title())\n"
   ]
  },
  {
   "cell_type": "code",
   "execution_count": 139,
   "id": "a140e8be-52ab-491f-a8ff-db225a21b542",
   "metadata": {},
   "outputs": [
    {
     "name": "stdout",
     "output_type": "stream",
     "text": [
      "00042\n"
     ]
    }
   ],
   "source": [
    "print(\"42\".zfill(5))\n"
   ]
  },
  {
   "cell_type": "code",
   "execution_count": 141,
   "id": "af047633-0de6-4a2c-9e95-1951fac8ac9c",
   "metadata": {},
   "outputs": [
    {
     "name": "stdout",
     "output_type": "stream",
     "text": [
      "Help on built-in function upper:\n",
      "\n",
      "upper() method of builtins.str instance\n",
      "    Return a copy of the string converted to uppercase.\n",
      "\n"
     ]
    }
   ],
   "source": [
    "help(\"Hello, world!\".upper)\n"
   ]
  },
  {
   "cell_type": "code",
   "execution_count": 143,
   "id": "e310bdf2-fad1-4acd-afd0-d1c2347d747c",
   "metadata": {},
   "outputs": [
    {
     "name": "stdout",
     "output_type": "stream",
     "text": [
      "Hello, World!\n",
      "<class 'str'>\n",
      "13\n",
      "['__add__', '__class__', '__contains__', '__delattr__', '__dir__', '__doc__', '__eq__', '__format__', '__ge__', '__getattribute__', '__getitem__', '__getnewargs__', '__getstate__', '__gt__', '__hash__', '__init__', '__init_subclass__', '__iter__', '__le__', '__len__', '__lt__', '__mod__', '__mul__', '__ne__', '__new__', '__reduce__', '__reduce_ex__', '__repr__', '__rmod__', '__rmul__', '__setattr__', '__sizeof__', '__str__', '__subclasshook__', 'capitalize', 'casefold', 'center', 'count', 'encode', 'endswith', 'expandtabs', 'find', 'format', 'format_map', 'index', 'isalnum', 'isalpha', 'isascii', 'isdecimal', 'isdigit', 'isidentifier', 'islower', 'isnumeric', 'isprintable', 'isspace', 'istitle', 'isupper', 'join', 'ljust', 'lower', 'lstrip', 'maketrans', 'partition', 'removeprefix', 'removesuffix', 'replace', 'rfind', 'rindex', 'rjust', 'rpartition', 'rsplit', 'rstrip', 'split', 'splitlines', 'startswith', 'strip', 'swapcase', 'title', 'translate', 'upper', 'zfill']\n"
     ]
    }
   ],
   "source": [
    "greetings = \"Hello, World!\"\n",
    "print(greetings)             # Hello, World!\n",
    "print(type(greetings))       # <class 'str'>\n",
    "print(len(greetings))        # 13\n",
    "print(dir(greetings))        # Lista de métodos e atributos\n"
   ]
  },
  {
   "cell_type": "code",
   "execution_count": 145,
   "id": "54772f12-c01f-4859-a652-f9495e77e4c1",
   "metadata": {},
   "outputs": [
    {
     "name": "stdout",
     "output_type": "stream",
     "text": [
      "hello, world!\n",
      "HELLO, WORLD!\n"
     ]
    }
   ],
   "source": [
    "c = greetings.upper()\n",
    "print(c.lower())             # hello, world!\n",
    "print(greetings.upper())     # HELLO, WORLD!\n"
   ]
  },
  {
   "cell_type": "code",
   "execution_count": null,
   "id": "bd4a801c-17ac-4b92-a1af-a255158ef6f2",
   "metadata": {},
   "outputs": [],
   "source": []
  }
 ],
 "metadata": {
  "kernelspec": {
   "display_name": "Python [conda env:Rafael]",
   "language": "python",
   "name": "conda-env-Rafael-py"
  },
  "language_info": {
   "codemirror_mode": {
    "name": "ipython",
    "version": 3
   },
   "file_extension": ".py",
   "mimetype": "text/x-python",
   "name": "python",
   "nbconvert_exporter": "python",
   "pygments_lexer": "ipython3",
   "version": "3.12.9"
  }
 },
 "nbformat": 4,
 "nbformat_minor": 5
}
