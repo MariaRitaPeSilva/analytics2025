{
 "cells": [
  {
   "cell_type": "code",
   "execution_count": 1,
   "id": "f1462e52-7ec7-4121-9885-72c1dd4996f4",
   "metadata": {},
   "outputs": [
    {
     "name": "stdout",
     "output_type": "stream",
     "text": [
      "['abacaxi\\n', 'cenoura\\n', 'pera\\n', 'uva\\n', 'batata\\n', 'cebola\\n', 'melancia\\n', 'couve\\n', 'alface\\n', 'acelga\\n']\n"
     ]
    }
   ],
   "source": [
    "# Leia o arquivo lista_compras.txt\n",
    "# TODO\n",
    "f = open(\"lista_compras.txt\", 'r')\n",
    "\n",
    "# Coloque cada linha num elemento de uma lista chamada itens\n",
    "# TODO\n",
    "itens = f.readlines()\n",
    "\n",
    "# Feche o arquivo\n",
    "# TODO\n",
    "f.close()\n",
    "\n",
    "# Imprimindo a lista\n",
    "print(itens)\n"
   ]
  },
  {
   "cell_type": "code",
   "execution_count": null,
   "id": "9e1e620e-dd2a-47c2-854b-4e26d2cc5d9a",
   "metadata": {},
   "outputs": [],
   "source": [
    "#Use fatiamento!"
   ]
  },
  {
   "cell_type": "code",
   "execution_count": 17,
   "id": "adb4ce17-77d9-46e0-ab7a-027dd48d9a8d",
   "metadata": {},
   "outputs": [
    {
     "name": "stdout",
     "output_type": "stream",
     "text": [
      "abacaxi\n",
      "\n"
     ]
    }
   ],
   "source": [
    "# imprima o primeiro item da lista itens\n",
    "## TODO\n",
    "print(itens[0])"
   ]
  },
  {
   "cell_type": "code",
   "execution_count": 15,
   "id": "45e3ee81-85a1-4bbd-ad0d-b9f4811a12c1",
   "metadata": {},
   "outputs": [
    {
     "name": "stdout",
     "output_type": "stream",
     "text": [
      "cenoura\n",
      "\n"
     ]
    }
   ],
   "source": [
    "# imprima o segundo item da lista itens\n",
    "## TODO\n",
    "print(itens[1])"
   ]
  },
  {
   "cell_type": "code",
   "execution_count": 19,
   "id": "0cba8ee5-7124-4a6b-9161-d762eb59d3f8",
   "metadata": {},
   "outputs": [
    {
     "name": "stdout",
     "output_type": "stream",
     "text": [
      "acelga\n",
      "\n"
     ]
    }
   ],
   "source": [
    "# imprima o último elemento da lista itens\n",
    "## TODO\n",
    "print(itens[-1])"
   ]
  },
  {
   "cell_type": "code",
   "execution_count": 23,
   "id": "c33d4671-e6c0-400c-8730-b8feab07c2fe",
   "metadata": {},
   "outputs": [
    {
     "name": "stdout",
     "output_type": "stream",
     "text": [
      "alface\n",
      "\n"
     ]
    }
   ],
   "source": [
    "# imprima o penúltimo elemento da lista itens\n",
    "## TODO\n",
    "print(itens[-2])"
   ]
  },
  {
   "cell_type": "code",
   "execution_count": 27,
   "id": "7c2ebfeb-46cd-4a06-b7e7-7766113d2a7b",
   "metadata": {},
   "outputs": [
    {
     "name": "stdout",
     "output_type": "stream",
     "text": [
      "['abacaxi\\n', 'cenoura\\n', 'pera\\n']\n"
     ]
    }
   ],
   "source": [
    "# imprima os três primeiros elementos da lista itens\n",
    "## TODO\n",
    "print(itens[0:3])"
   ]
  },
  {
   "cell_type": "code",
   "execution_count": 29,
   "id": "e1ccd034-d531-489c-aa62-f8c4d55f32a0",
   "metadata": {},
   "outputs": [
    {
     "name": "stdout",
     "output_type": "stream",
     "text": [
      "['uva\\n', 'batata\\n', 'cebola\\n']\n"
     ]
    }
   ],
   "source": [
    "# imprima do 4º (inclusive) ao 6º (inclusive) elementos da lista itens\n",
    "## TODO\n",
    "print(itens[3:6])"
   ]
  },
  {
   "cell_type": "code",
   "execution_count": 35,
   "id": "8081637c-72b1-4421-bbf2-628e074af5a9",
   "metadata": {},
   "outputs": [
    {
     "name": "stdout",
     "output_type": "stream",
     "text": [
      "['cenoura\\n', 'uva\\n', 'cebola\\n']\n"
     ]
    }
   ],
   "source": [
    "# imprima apenas os 2º, 4º e 6º elementos da lista itens\n",
    "## TODO\n",
    "print([itens[1], itens[3], itens[5]])"
   ]
  },
  {
   "cell_type": "code",
   "execution_count": 45,
   "id": "2e85146d-7a20-4112-9784-4f7204fb566f",
   "metadata": {},
   "outputs": [
    {
     "name": "stdout",
     "output_type": "stream",
     "text": [
      "['batata\\n', 'melancia\\n', 'alface\\n']\n"
     ]
    }
   ],
   "source": [
    "# imprima apenas os 5º, 7º e 9º elementos da lista itens\n",
    "## TODO\n",
    "print([itens[4], itens[6], itens[8]])"
   ]
  },
  {
   "cell_type": "code",
   "execution_count": 47,
   "id": "d39449f0-69ae-49e5-abac-5010718e0459",
   "metadata": {},
   "outputs": [
    {
     "name": "stdout",
     "output_type": "stream",
     "text": [
      "['uva\\n', 'melancia\\n', 'acelga\\n']\n"
     ]
    }
   ],
   "source": [
    "# imprima apenas os 4º, 7º e 10º elementos da lista itens\n",
    "## TODO\n",
    "print([itens[3], itens[6], itens[9]])"
   ]
  },
  {
   "cell_type": "code",
   "execution_count": null,
   "id": "4fe18566-6dae-4c86-a1be-d28175094058",
   "metadata": {},
   "outputs": [],
   "source": [
    "#RANGE\n",
    "#Range é um objeto para fazer lista de números. Para construir tal objeto, usa-se a built-in function range."
   ]
  },
  {
   "cell_type": "code",
   "execution_count": 49,
   "id": "731c230b-e281-4fe7-b3ee-59d721e5da4e",
   "metadata": {},
   "outputs": [],
   "source": [
    "# aqui é um exemplo\n",
    "r = range(5)"
   ]
  },
  {
   "cell_type": "code",
   "execution_count": 51,
   "id": "42efe656-b979-4ccf-9365-1126976e0d78",
   "metadata": {},
   "outputs": [
    {
     "data": {
      "text/plain": [
       "range"
      ]
     },
     "execution_count": 51,
     "metadata": {},
     "output_type": "execute_result"
    }
   ],
   "source": [
    "# qual o tipo de r?\n",
    "## TODO\n",
    "type(r)"
   ]
  },
  {
   "cell_type": "code",
   "execution_count": 53,
   "id": "bde78256-92b4-412c-9031-2e97fd6a8949",
   "metadata": {},
   "outputs": [
    {
     "name": "stdout",
     "output_type": "stream",
     "text": [
      "range(0, 5)\n"
     ]
    }
   ],
   "source": [
    "# imprima r\n",
    "## TODO\n",
    "print(r)"
   ]
  },
  {
   "cell_type": "code",
   "execution_count": 59,
   "id": "b82d571d-42a5-4694-bac4-49d453aa41b4",
   "metadata": {},
   "outputs": [
    {
     "data": {
      "text/plain": [
       "list"
      ]
     },
     "execution_count": 59,
     "metadata": {},
     "output_type": "execute_result"
    }
   ],
   "source": [
    "# Mude o tipo de r para lista\n",
    "## TODO\n",
    "\n",
    "listrange = list(r)\n",
    "type(listrange)"
   ]
  },
  {
   "cell_type": "code",
   "execution_count": 61,
   "id": "ce5664cf-333d-45ae-b192-612f65fe39cb",
   "metadata": {},
   "outputs": [
    {
     "name": "stdout",
     "output_type": "stream",
     "text": [
      "[0, 1, 2, 3, 4]\n"
     ]
    }
   ],
   "source": [
    "# imprima novamente r\n",
    "## TODO\n",
    "print(listrange)"
   ]
  },
  {
   "cell_type": "code",
   "execution_count": 65,
   "id": "e62c2a57-a6b9-4f10-aaf0-efae1919cc28",
   "metadata": {},
   "outputs": [
    {
     "data": {
      "text/plain": [
       "[15, 20, 25, 30]"
      ]
     },
     "execution_count": 65,
     "metadata": {},
     "output_type": "execute_result"
    }
   ],
   "source": [
    "#Exercício\n",
    "# usando range imprima a seguinte lista\n",
    "# [15,20,25,30]\n",
    "## TODO\n",
    "\n",
    "list(range(15,35,5))"
   ]
  },
  {
   "cell_type": "code",
   "execution_count": 67,
   "id": "91ec1958-5645-4af5-886e-6a96a167c719",
   "metadata": {},
   "outputs": [
    {
     "data": {
      "text/plain": [
       "[45, 30, 15, 0, -15]"
      ]
     },
     "execution_count": 67,
     "metadata": {},
     "output_type": "execute_result"
    }
   ],
   "source": [
    "#Exercício\n",
    "# usando range imprima a seguinte lista\n",
    "# [45,30,15,0,-15]\n",
    "## TODO\n",
    "\n",
    "list(range(45,-30,-15))"
   ]
  },
  {
   "cell_type": "code",
   "execution_count": null,
   "id": "de0f3229-ff36-4269-82f0-4b62c41ccf20",
   "metadata": {},
   "outputs": [],
   "source": [
    "#Exercício (TWITTER)\n",
    "#Você pode fazer requisições de dados do twitter para seus projetos. Eles vão retornar para você um dicionário como o abaixo:"
   ]
  },
  {
   "cell_type": "code",
   "execution_count": 69,
   "id": "048e2142-6a98-4bd2-80ad-d73dbed43370",
   "metadata": {},
   "outputs": [],
   "source": [
    "twitter_post = [{\n",
    "  \"created_at\": \"Thu Jun 22 21:00:00 +0000 2017\",\n",
    "  \"id\": 877994604561387500,\n",
    "  \"id_str\": \"877994604561387520\",\n",
    "  \"text\": \"Creating a Grocery List Manager Using Angular, Part 1: Add &amp; Display Items https://t.co/xFox78juL1 #Angular\",\n",
    "  \"truncated\": False,\n",
    "  \"entities\": {\n",
    "    \"hashtags\": [{\n",
    "      \"text\": \"Angular\",\n",
    "      \"indices\": [103, 111]\n",
    "    }],\n",
    "    \"symbols\": [],\n",
    "    \"user_mentions\": [],\n",
    "    \"urls\": [{\n",
    "      \"url\": \"https://t.co/xFox78juL1\",\n",
    "      \"expanded_url\": \"http://buff.ly/2sr60pf\",\n",
    "      \"display_url\": \"buff.ly/2sr60pf\",\n",
    "      \"indices\": [79, 102]\n",
    "    }]\n",
    "  },\n",
    "  \"source\": \"<a href=\\\"http://bufferapp.com\\\" rel=\\\"nofollow\\\">Buffer</a>\",\n",
    "  \"user\": {\n",
    "    \"id\": 772682964,\n",
    "    \"id_str\": \"772682964\",\n",
    "    \"name\": \"SitePoint JavaScript\",\n",
    "    \"screen_name\": \"SitePointJS\",\n",
    "    \"location\": \"Melbourne, Australia\",\n",
    "    \"description\": \"Keep up with JavaScript tutorials, tips, tricks and articles at SitePoint.\",\n",
    "    \"url\": \"http://t.co/cCH13gqeUK\",\n",
    "    \"entities\": {\n",
    "      \"url\": {\n",
    "        \"urls\": [{\n",
    "          \"url\": \"http://t.co/cCH13gqeUK\",\n",
    "          \"expanded_url\": \"http://sitepoint.com/javascript\",\n",
    "          \"display_url\": \"sitepoint.com/javascript\",\n",
    "          \"indices\": [0, 22]\n",
    "        }]\n",
    "      },\n",
    "      \"description\": {\n",
    "        \"urls\": []\n",
    "      }\n",
    "    },\n",
    "    \"protected\": False,\n",
    "    \"followers_count\": 2145,\n",
    "    \"friends_count\": 18,\n",
    "    \"listed_count\": 328,\n",
    "    \"created_at\": \"Wed Aug 22 02:06:33 +0000 2012\",\n",
    "    \"favourites_count\": 57,\n",
    "    \"utc_offset\": 43200,\n",
    "    \"time_zone\": \"Wellington\",\n",
    "  },\n",
    "}]"
   ]
  },
  {
   "cell_type": "code",
   "execution_count": 83,
   "id": "7e93ee22-9b58-4df7-bd26-a21546edbbd6",
   "metadata": {},
   "outputs": [
    {
     "data": {
      "text/plain": [
       "'Melbourne, Australia'"
      ]
     },
     "execution_count": 83,
     "metadata": {},
     "output_type": "execute_result"
    }
   ],
   "source": [
    "#Seu objetivo é imprimir a localização do usuário que fez o post acima!\n",
    "## TODO\n",
    "\n",
    "twitter_post[0]['user']['location'] ###NÃO ENTENDI O PQ USOU O [0]"
   ]
  },
  {
   "cell_type": "code",
   "execution_count": null,
   "id": "abccf7ea-7196-42c6-9812-60c278e8c2e6",
   "metadata": {},
   "outputs": [],
   "source": [
    "#Exercício Google maps\n",
    "#Outro serviço muito usado é o Google maps. Quando você passar um endereço, é possível obter diversas informações deste endereço."
   ]
  },
  {
   "cell_type": "code",
   "execution_count": 85,
   "id": "2bbdccf1-17ed-4b5e-af94-8e6d882f1e81",
   "metadata": {},
   "outputs": [],
   "source": [
    "address = {\n",
    "   \"results\" : [\n",
    "      {\n",
    "         \"address_components\" : [\n",
    "            {\n",
    "               \"long_name\" : \"1600\",\n",
    "               \"short_name\" : \"1600\",\n",
    "               \"types\" : [ \"street_number\" ]\n",
    "            },\n",
    "            {\n",
    "               \"long_name\" : \"Amphitheatre Pkwy\",\n",
    "               \"short_name\" : \"Amphitheatre Pkwy\",\n",
    "               \"types\" : [ \"route\" ]\n",
    "            },\n",
    "            {\n",
    "               \"long_name\" : \"Mountain View\",\n",
    "               \"short_name\" : \"Mountain View\",\n",
    "               \"types\" : [ \"locality\", \"political\" ]\n",
    "            },\n",
    "            {\n",
    "               \"long_name\" : \"Santa Clara County\",\n",
    "               \"short_name\" : \"Santa Clara County\",\n",
    "               \"types\" : [ \"administrative_area_level_2\", \"political\" ]\n",
    "            },\n",
    "            {\n",
    "               \"long_name\" : \"California\",\n",
    "               \"short_name\" : \"CA\",\n",
    "               \"types\" : [ \"administrative_area_level_1\", \"political\" ]\n",
    "            },\n",
    "            {\n",
    "               \"long_name\" : \"United States\",\n",
    "               \"short_name\" : \"US\",\n",
    "               \"types\" : [ \"country\", \"political\" ]\n",
    "            },\n",
    "            {\n",
    "               \"long_name\" : \"94043\",\n",
    "               \"short_name\" : \"94043\",\n",
    "               \"types\" : [ \"postal_code\" ]\n",
    "            }\n",
    "         ],\n",
    "         \"formatted_address\" : \"1600 Amphitheatre Parkway, Mountain View, CA 94043, USA\",\n",
    "         \"geometry\" : {\n",
    "            \"location\" : {\n",
    "               \"lat\" : 37.4224764,\n",
    "               \"lng\" : -122.0842499\n",
    "            },\n",
    "            \"location_type\" : \"ROOFTOP\",\n",
    "            \"viewport\" : {\n",
    "               \"northeast\" : {\n",
    "                  \"lat\" : 37.4238253802915,\n",
    "                  \"lng\" : -122.0829009197085\n",
    "               },\n",
    "               \"southwest\" : {\n",
    "                  \"lat\" : 37.4211274197085,\n",
    "                  \"lng\" : -122.0855988802915\n",
    "               }\n",
    "            }\n",
    "         },\n",
    "         \"place_id\" : \"ChIJ2eUgeAK6j4ARbn5u_wAGqWA\",\n",
    "         \"types\" : [ \"street_address\" ]\n",
    "      }\n",
    "   ],\n",
    "   \"status\" : \"OK\"\n",
    "}"
   ]
  },
  {
   "cell_type": "code",
   "execution_count": 87,
   "id": "c4b5d493-6ac1-443d-85f3-4881e47ea069",
   "metadata": {},
   "outputs": [
    {
     "data": {
      "text/plain": [
       "37.4224764"
      ]
     },
     "execution_count": 87,
     "metadata": {},
     "output_type": "execute_result"
    }
   ],
   "source": [
    "# imprima a latitude do endereço acima\n",
    "## TODO\n",
    "address[\"results\"][0][\"geometry\"][\"location\"][\"lat\"]"
   ]
  },
  {
   "cell_type": "code",
   "execution_count": 89,
   "id": "422e6936-e90e-45ba-ae27-d7ba40aef311",
   "metadata": {},
   "outputs": [
    {
     "data": {
      "text/plain": [
       "-122.0842499"
      ]
     },
     "execution_count": 89,
     "metadata": {},
     "output_type": "execute_result"
    }
   ],
   "source": [
    "# imprima a longitude do endereço acima\n",
    "## TODO\n",
    "address[\"results\"][0][\"geometry\"][\"location\"][\"lng\"]"
   ]
  }
 ],
 "metadata": {
  "kernelspec": {
   "display_name": "Python [conda env:base] *",
   "language": "python",
   "name": "conda-base-py"
  },
  "language_info": {
   "codemirror_mode": {
    "name": "ipython",
    "version": 3
   },
   "file_extension": ".py",
   "mimetype": "text/x-python",
   "name": "python",
   "nbconvert_exporter": "python",
   "pygments_lexer": "ipython3",
   "version": "3.12.7"
  }
 },
 "nbformat": 4,
 "nbformat_minor": 5
}
