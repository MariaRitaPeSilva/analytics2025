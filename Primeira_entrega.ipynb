{
 "cells": [
  {
   "cell_type": "code",
   "execution_count": 2,
   "id": "6e2dee27-f8ce-4b2a-8c9c-e8b2da76b3b1",
   "metadata": {},
   "outputs": [
    {
     "name": "stdout",
     "output_type": "stream",
     "text": [
      "Receita Total do mês: R$ 13500\n"
     ]
    }
   ],
   "source": [
    "#Exercício 1: Cálculo de Receita Total\n",
    "#Contexto: Uma empresa vende três produtos: A, B e C. Os preços unitários são R$50, R$30 e R$ 20, respectivamente. \n",
    "#Em um determinado mês, foram vendidas 100 unidades do produto A, 150 do B e 200 do C\n",
    "\n",
    "#Tarefa: Crie variáveis para os preços e quantidades vendidas de cada produto. Em seguida, calcule e imprima a receita total do mês.\n",
    "\n",
    "# Preço unitário dos produtos\n",
    "preco_produto_a = 50\n",
    "preco_produto_b = 30\n",
    "preco_produto_c = 20\n",
    "\n",
    "# Quantidade vendida no mês\n",
    "vendas_produto_a = 100\n",
    "vendas_produto_b = 150\n",
    "vendas_produto_c = 200\n",
    "\n",
    "# Receita total do mês\n",
    "receita_mensal_total = (preco_produto_a * vendas_produto_a +\n",
    "                        preco_produto_b * vendas_produto_b +\n",
    "                        preco_produto_c * vendas_produto_c)\n",
    "\n",
    "print(\"Receita Total do mês: R$\", receita_mensal_total)"
   ]
  },
  {
   "cell_type": "code",
   "execution_count": 7,
   "id": "2fef9980-a300-4401-8cfa-dc5a5308b00a",
   "metadata": {},
   "outputs": [
    {
     "name": "stdout",
     "output_type": "stream",
     "text": [
      "Valor em dólares: US$ 952.38\n"
     ]
    }
   ],
   "source": [
    "#Exercício 2: Conversão de Moeda\n",
    "\n",
    "#Contexto: Você recebeu uma quantia de R$ 5000 e deseja converter-la para US$.\n",
    "# Suponha que a taxa de câmbia atual seja de R$ 5,25 por dólar.\n",
    "\n",
    "#Tarefa: Crie variáveis para representar o valor em reais e a taxa de câmbio. \n",
    "#Calcule e imprima o valor equivalente em dólares, arredondado para duas casas decimais.\n",
    "\n",
    "# Valores e taxa de câmbio\n",
    "valor_em_reais = 5000\n",
    "cotacao_dolar = 5.25\n",
    "\n",
    "# Conversão para dólares\n",
    "valor_convertido_dolar = valor_em_reais / cotacao_dolar\n",
    "\n",
    "print(f\"Valor em dólares: US$ {valor_convertido_dolar:.2f}\")"
   ]
  },
  {
   "cell_type": "code",
   "execution_count": 9,
   "id": "a484813a-7185-46c2-b4b7-8323e8826bca",
   "metadata": {},
   "outputs": [
    {
     "name": "stdout",
     "output_type": "stream",
     "text": [
      "Crescimento: 25.00%\n"
     ]
    }
   ],
   "source": [
    "#Exercício 3: Análise de Crescimento de Vendas\n",
    "\n",
    "#Contexto: As vendas de uma empresa foram de R$120.000,00 em janeiro e R$150.000,00 em fevereiro.\n",
    "\n",
    "#Tarefa: Crie variáveis para as vendas de janeiro e fevereiro. \n",
    "#Calcule e imprima o crescimento percentual das vendas de janeiro para fevereiro, arredondado para duas casas decimais.\n",
    "\n",
    "# Vendas por mês\n",
    "vendas_janeiro = 120000\n",
    "vendas_fevereiro = 150000\n",
    "\n",
    "# Crescimento percentual\n",
    "crescimento_percentual = ((vendas_fevereiro - vendas_janeiro) / vendas_janeiro) * 100\n",
    "\n",
    "print(f\"Crescimento: {crescimento_percentual:.2f}%\")"
   ]
  },
  {
   "cell_type": "code",
   "execution_count": 13,
   "id": "2eb832c9-4b3d-4cdb-93cb-73888b862b85",
   "metadata": {},
   "outputs": [
    {
     "name": "stdout",
     "output_type": "stream",
     "text": [
      "Lucro Bruto: R$80000.00\n",
      "Margem de Lucro Bruto: 40.00%\n"
     ]
    }
   ],
   "source": [
    "#Exercício 4: Cálculo de Lucro Bruto\n",
    "\n",
    "#Contexto: Uma empresa teve uma receita de R$200.000,00 e custos de R$120.000,00 em um trimestre.\n",
    "\n",
    "#Tarefa: Crie variáveis para a receita e os custos. \n",
    "#Calcule e imprima o lucro bruto e a margem de lucro bruto (em porcentagem), arredondada para duas casas decimais.\n",
    "\n",
    "# Receita e custos do trimestre\n",
    "faturamento_trimestral = 200000\n",
    "despesas_trimestrais = 120000\n",
    "\n",
    "# Lucro e margem\n",
    "lucro_bruto_total = faturamento_trimestral - despesas_trimestrais\n",
    "margem_bruta = (lucro_bruto_total / faturamento_trimestral) * 100\n",
    "\n",
    "print(f\"Lucro Bruto: R${lucro_bruto_total:.2f}\")\n",
    "print(f\"Margem de Lucro Bruto: {margem_bruta:.2f}%\")"
   ]
  },
  {
   "cell_type": "code",
   "execution_count": 15,
   "id": "7414af0f-9f4d-4740-9b45-30d272777475",
   "metadata": {},
   "outputs": [
    {
     "name": "stdout",
     "output_type": "stream",
     "text": [
      "A média de Satisfação é: 8.0\n"
     ]
    }
   ],
   "source": [
    "\n",
    "#Exercício 5: Média de Satisfação do Cliente\n",
    "\n",
    "#Contexto: Uma pesquisa de satisfação do cliente resultou nas seguintes notas: 8, 9, 7, 10, 6.\n",
    "\n",
    "#Tarefa: Armazene as notas em variáveis ou em uma estrutura de dados apropriada. \n",
    "#Calcule e imprima a média de satisfação dos clientes, arredondada para uma casa decimal.\n",
    "\n",
    "# Notas da pesquisa\n",
    "avaliacoes_clientes = [8, 9, 7, 10, 6]\n",
    "\n",
    "# Cálculo da média\n",
    "media_satisfacao = sum(avaliacoes_clientes) / len(avaliacoes_clientes)\n",
    "\n",
    "print(f\"A média de Satisfação é: {media_satisfacao:.1f}\")"
   ]
  },
  {
   "cell_type": "code",
   "execution_count": null,
   "id": "fcb66a34-6efc-417d-b038-a1d148e8cb27",
   "metadata": {},
   "outputs": [],
   "source": []
  }
 ],
 "metadata": {
  "kernelspec": {
   "display_name": "Python [conda env:Rafael]",
   "language": "python",
   "name": "conda-env-Rafael-py"
  },
  "language_info": {
   "codemirror_mode": {
    "name": "ipython",
    "version": 3
   },
   "file_extension": ".py",
   "mimetype": "text/x-python",
   "name": "python",
   "nbconvert_exporter": "python",
   "pygments_lexer": "ipython3",
   "version": "3.12.9"
  }
 },
 "nbformat": 4,
 "nbformat_minor": 5
}
