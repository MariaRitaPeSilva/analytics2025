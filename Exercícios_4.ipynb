{
 "cells": [
  {
   "cell_type": "code",
   "execution_count": 55,
   "id": "ab122bba-fc5d-49fa-be07-9959edfaca4e",
   "metadata": {},
   "outputs": [
    {
     "name": "stdin",
     "output_type": "stream",
     "text": [
      "Digite um número entre 1 e 10:  10\n"
     ]
    },
    {
     "name": "stdout",
     "output_type": "stream",
     "text": [
      "PAR\n"
     ]
    }
   ],
   "source": [
    "# Peça para o usuário digita um número inteiro de 1 a 10 (ambos inclusos).\n",
    "# Guarde esse número na variável number.\n",
    "# TODO\n",
    "\n",
    "# Imprima \"PAR\" se o número digitado for par e \"IMPAR\" caso contrário\n",
    "# Use if e else\n",
    "# Dica, use a operação % (resto da divisão)\n",
    "# TODO\n",
    "\n",
    "\n",
    "number = int(input(\"Digite um número entre 1 e 10: \"))\n",
    "if number < 1 or number > 10:\n",
    "    print(\"Número fora do intervalo permitido!\")\n",
    "else:\n",
    "    if number % 2 == 0:\n",
    "        print(\"PAR\")\n",
    "    else:\n",
    "        print(\"IMPAR\")\n"
   ]
  },
  {
   "cell_type": "code",
   "execution_count": 57,
   "id": "78422073-e035-49fb-8e87-efd264b6dcfc",
   "metadata": {},
   "outputs": [
    {
     "name": "stdin",
     "output_type": "stream",
     "text": [
      "Digite um número entre 1 e 20:  19\n"
     ]
    },
    {
     "name": "stdout",
     "output_type": "stream",
     "text": [
      "MAIOR\n"
     ]
    }
   ],
   "source": [
    "# Você vai fazer um programa para que o usuário tente adivinhar qual número você pensou\n",
    "# você pensou no número 15\n",
    "\n",
    "# Peça para o usuário digita um número inteiro de 1 a 20 (ambos inclusos).\n",
    "# Guarde esse número na variável number.\n",
    "# TODO\n",
    "\n",
    "# Imprima \"MENOR\" se o número digitado for menor que 15\n",
    "# Imprima \"MAIOR\" se o número for maior que 15\n",
    "# Imprima \"ACERTOU\" se o número for exatamente 15\n",
    "# Use if, elif e else\n",
    "# TODO\n",
    "\n",
    "\n",
    "number = int(input(\"Digite um número entre 1 e 20: \"))\n",
    "if number < 1 or number > 20:\n",
    "    print(\"Número fora do intervalo permitido!\")\n",
    "\n",
    "if number < 15:\n",
    "    print(\"MENOR\")\n",
    "elif number > 15:\n",
    "    print(\"MAIOR\")\n",
    "else:\n",
    "    print(\"ACERTOU\")"
   ]
  },
  {
   "cell_type": "code",
   "execution_count": 59,
   "id": "9f6a71d5-3282-4173-aeee-37704c2f3db1",
   "metadata": {},
   "outputs": [
    {
     "name": "stdin",
     "output_type": "stream",
     "text": [
      "Tente adivinhar o número (entre 1 e 20):  15\n"
     ]
    },
    {
     "name": "stdout",
     "output_type": "stream",
     "text": [
      "ACERTOU\n"
     ]
    }
   ],
   "source": [
    "# Você vai fazer um programa para que o usuário tente adivinhar qual número você pensou\n",
    "# O programa deve parar apenas quando ele acertar\n",
    "# você pensou no número 15\n",
    "\n",
    "# Peça para o usuário digita um número inteiro de 1 a 20 (ambos inclusos).\n",
    "# Guarde esse número na variável number.\n",
    "## TODO\n",
    "\n",
    "# Imprima \"MENOR\" se o número digitado for menor que 15\n",
    "# Imprima \"MAIOR\" se o número for maior que 15\n",
    "# Imprima \"ACERTOU\" se o número for exatamente 15\n",
    "# Use while, if, elif e else\n",
    "# Dica: Não esqueça de pedir novamente um número ao usuário dentro da identação do while\n",
    "## TODO\n",
    "\n",
    "\n",
    "numero_secreto = 15\n",
    "number = int(input(\"Tente adivinhar o número (entre 1 e 20): \"))\n",
    "while number != numero_secreto:\n",
    "    if number < numero_secreto:\n",
    "        print(\"MENOR\")\n",
    "    elif number > numero_secreto:\n",
    "        print(\"MAIOR\")\n",
    "    number = int(input(\"Tente novamente: \"))\n",
    "print(\"ACERTOU\")\n"
   ]
  },
  {
   "cell_type": "code",
   "execution_count": 61,
   "id": "f2b618cd-8cc4-4aab-9925-9701152739d9",
   "metadata": {},
   "outputs": [
    {
     "name": "stdin",
     "output_type": "stream",
     "text": [
      "Entre com um número inteiro: 15\n"
     ]
    },
    {
     "name": "stdout",
     "output_type": "stream",
     "text": [
      "1307674368000\n"
     ]
    }
   ],
   "source": [
    "#Usando input podemos calcular o fatorial de um número digitado pelo usuário:\n",
    "\n",
    "n = int(input(\"Entre com um número inteiro:\"))\n",
    "result = 1\n",
    "for i in range(1,n+1):\n",
    "    result = result * i\n",
    "print(result)"
   ]
  },
  {
   "cell_type": "code",
   "execution_count": 65,
   "id": "e14b92ef-2727-42fc-a302-5b03475b1239",
   "metadata": {},
   "outputs": [
    {
     "name": "stdin",
     "output_type": "stream",
     "text": [
      "Digite um número inteiro para calcular o fatorial:  15\n"
     ]
    },
    {
     "name": "stdout",
     "output_type": "stream",
     "text": [
      "O fatorial é 1307674368000\n"
     ]
    }
   ],
   "source": [
    "# faça um programa que imprime o fatorial do número inteiro digitado pelo usuário\n",
    "# use while!!!! não vale usar for!!!!\n",
    "# TODO\n",
    "\n",
    "\n",
    "numero = int(input(\"Digite um número inteiro para calcular o fatorial: \"))\n",
    "fatorial = 1\n",
    "contador = numero\n",
    "while contador > 1:\n",
    "    fatorial *= contador\n",
    "    contador -= 1\n",
    "print(f\"O fatorial é {fatorial}\")\n"
   ]
  },
  {
   "cell_type": "code",
   "execution_count": 67,
   "id": "34551dca-a7e1-4683-be65-9904008bd2b3",
   "metadata": {},
   "outputs": [
    {
     "name": "stdin",
     "output_type": "stream",
     "text": [
      "Digite um número inteiro:  15\n"
     ]
    },
    {
     "name": "stdout",
     "output_type": "stream",
     "text": [
      "O fatorial é 1307674368000\n"
     ]
    }
   ],
   "source": [
    "# Faça uma função que retorne o fatorial de um número inteiro\n",
    "# entrada: inteiro -> n\n",
    "# saida: inteiro -> fatorial de n\n",
    "# TODO\n",
    "def fatorial(n):\n",
    "    resultado = 1\n",
    "    for i in range(2, n + 1):\n",
    "        resultado *= i\n",
    "    return resultado\n",
    "numero = int(input(\"Digite um número inteiro: \"))\n",
    "print(f\"O fatorial é {fatorial(numero)}\")"
   ]
  },
  {
   "cell_type": "code",
   "execution_count": 69,
   "id": "46be79d9-0c81-4c9c-9873-da00cfa4d3f9",
   "metadata": {},
   "outputs": [
    {
     "name": "stdin",
     "output_type": "stream",
     "text": [
      "Digite o primeiro número:  10\n",
      "Digite o segundo número:  20\n"
     ]
    },
    {
     "name": "stdout",
     "output_type": "stream",
     "text": [
      "O MDC é 10\n"
     ]
    }
   ],
   "source": [
    "# Faça uma função que retorne o mdc de dois números inteiros\n",
    "# entrada: inteiros -> m, n\n",
    "# saida: inteiro -> máximo divisor comum de m e n\n",
    "# TODO\n",
    "\n",
    "def mdc(m, n):\n",
    "    while n != 0:\n",
    "        m, n = n, m % n\n",
    "    return m\n",
    "a = int(input(\"Digite o primeiro número: \"))\n",
    "b = int(input(\"Digite o segundo número: \"))\n",
    "print(f\"O MDC é {mdc(a, b)}\")\n"
   ]
  },
  {
   "cell_type": "code",
   "execution_count": 71,
   "id": "c414aa23-39fa-44e7-bc28-6d24da69b25a",
   "metadata": {},
   "outputs": [
    {
     "name": "stdout",
     "output_type": "stream",
     "text": [
      "['abacaxi\\n', 'cenoura\\n', 'pera\\n', 'uva\\n', 'batata\\n', 'cebola\\n', 'melancia\\n', 'couve\\n', 'alface\\n', 'acelga\\n']\n"
     ]
    }
   ],
   "source": [
    "# leia o arquivo lista_compras.txt\n",
    "f = open(\"lista_compras.txt\", \"r\")\n",
    "\n",
    "# coloque cada linha num elemento de uma lista chamada itens\n",
    "itens = f.readlines()\n",
    "\n",
    "# feche o arquivo\n",
    "f.close()\n",
    "print(itens)\n"
   ]
  },
  {
   "cell_type": "code",
   "execution_count": 33,
   "id": "d5c3c9f2-db97-4674-89ab-556a6d9407aa",
   "metadata": {},
   "outputs": [],
   "source": [
    "# crie uma função de nome comecaA que verifica se uma palavra word começa com 'a'\n",
    "# entrada: string -> word\n",
    "# saida: boolean -> True: se word começa com 'a', False: se word não começa com a\n",
    "# TODO\n",
    "\n",
    "def comecaA(word):\n",
    "    return word.startswith('a') or word.startswith('A')\n"
   ]
  },
  {
   "cell_type": "code",
   "execution_count": 37,
   "id": "7ac993d8-5986-49ee-b7ea-ce7a83497327",
   "metadata": {},
   "outputs": [
    {
     "name": "stdout",
     "output_type": "stream",
     "text": [
      "True\n",
      "True\n",
      "False\n"
     ]
    }
   ],
   "source": [
    "print(comecaA(\"amor\"))     \n",
    "print(comecaA(\"Amor\"))     \n",
    "print(comecaA(\"bola\"))     \n"
   ]
  },
  {
   "cell_type": "code",
   "execution_count": 51,
   "id": "1e8b1d54-6e20-4695-bb38-0614298442b3",
   "metadata": {},
   "outputs": [
    {
     "name": "stdout",
     "output_type": "stream",
     "text": [
      "[True, False, False, False, False, False, False, False, True, True]\n"
     ]
    }
   ],
   "source": [
    "# Usando map, aplique a função comecaA na lista itens\n",
    "# guarde o resultado numa variável chamada resultado\n",
    "# TODO\n",
    "resultado = list(map(comecaA, itens))\n",
    "print(resultado)"
   ]
  },
  {
   "cell_type": "code",
   "execution_count": 73,
   "id": "bac88889-1273-453e-8ef8-7a269b56b82b",
   "metadata": {},
   "outputs": [
    {
     "name": "stdout",
     "output_type": "stream",
     "text": [
      "<class 'list'>\n",
      "[True, False, False, False, False, False, False, False, True, True]\n",
      "Número de itens começa com a letra 'a': 3\n"
     ]
    }
   ],
   "source": [
    "# qual o tipo da variável resultado?\n",
    "print(type(resultado))  # Deve mostrar: <class 'list'>\n",
    "\n",
    "# imprima a variável resultado\n",
    "print(resultado)\n",
    "\n",
    "# conte o número de True's na lista\n",
    "print(\"Número de itens começa com a letra 'a':\", resultado.count(True))\n"
   ]
  },
  {
   "cell_type": "code",
   "execution_count": 75,
   "id": "e269f85a-dbd2-44d5-951d-ce902abf1be1",
   "metadata": {},
   "outputs": [
    {
     "name": "stdout",
     "output_type": "stream",
     "text": [
      "[25, 36, 10, 48, 59, -15, 26, -26, -15, -1235, -89, 59, 10, 0, 0, 10, -59, 10, 23, 56, -89, -47, 15, 10, 9, 8, 4, 3, -25, 10]\n"
     ]
    }
   ],
   "source": [
    "# leia o arquivo numeros.txt\n",
    "f = open(\"numeros.txt\", \"r\")\n",
    "\n",
    "numbers = [int(linha.strip()) for linha in f]\n",
    "f.close()\n",
    "print(numbers)\n"
   ]
  },
  {
   "cell_type": "code",
   "execution_count": 77,
   "id": "935ab09e-3fd0-4fb5-b87a-be4b593cdfe9",
   "metadata": {},
   "outputs": [
    {
     "name": "stdout",
     "output_type": "stream",
     "text": [
      "Números maiores que 0: 19\n",
      "Números divisíveis por 3: 9\n"
     ]
    }
   ],
   "source": [
    "# quantos números na lista numbers são maiores que 0?\n",
    "maiores_que_zero = len([num for num in numbers if num > 0])\n",
    "print(\"Números maiores que 0:\", maiores_que_zero)\n",
    "\n",
    "# quantos números na lista numbers são divisíveis por 3?\n",
    "divisiveis_por_3 = len([num for num in numbers if num % 3 == 0])\n",
    "print(\"Números divisíveis por 3:\", divisiveis_por_3)\n"
   ]
  },
  {
   "cell_type": "code",
   "execution_count": null,
   "id": "4b7ebf39-f705-40a9-90da-c0dc60cda631",
   "metadata": {},
   "outputs": [],
   "source": []
  }
 ],
 "metadata": {
  "kernelspec": {
   "display_name": "Python [conda env:base] *",
   "language": "python",
   "name": "conda-base-py"
  },
  "language_info": {
   "codemirror_mode": {
    "name": "ipython",
    "version": 3
   },
   "file_extension": ".py",
   "mimetype": "text/x-python",
   "name": "python",
   "nbconvert_exporter": "python",
   "pygments_lexer": "ipython3",
   "version": "3.12.7"
  }
 },
 "nbformat": 4,
 "nbformat_minor": 5
}
